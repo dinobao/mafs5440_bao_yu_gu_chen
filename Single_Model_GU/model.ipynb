{
 "cells": [
  {
   "cell_type": "code",
   "execution_count": 50,
   "id": "initial_id",
   "metadata": {
    "collapsed": true,
    "ExecuteTime": {
     "end_time": "2024-09-16T13:19:50.335201600Z",
     "start_time": "2024-09-16T13:19:50.323105100Z"
    }
   },
   "outputs": [],
   "source": [
    "import pandas as pd\n",
    "import numpy as np\n",
    "import lightgbm as lgb\n",
    "from sklearn.model_selection import KFold, train_test_split, GridSearchCV\n",
    "from sklearn.ensemble import RandomForestClassifier\n",
    "from sklearn.linear_model import LogisticRegressionCV\n",
    "from sklearn.metrics import roc_auc_score, roc_curve\n",
    "from sklearn.impute import SimpleImputer\n",
    "import warnings\n",
    "warnings.filterwarnings(\"ignore\")"
   ]
  },
  {
   "cell_type": "code",
   "outputs": [],
   "source": [
    "def reduce_mem_usage(df):\n",
    "    \"\"\" iterate through all the columns of a dataframe and modify the data type\n",
    "        to reduce memory usage.        \n",
    "    \"\"\"\n",
    "    start_mem = df.memory_usage().sum() / 1024**2\n",
    "    print('Memory usage of dataframe is {:.2f} MB'.format(start_mem))\n",
    "    \n",
    "    for col in df.columns:\n",
    "        col_type = df[col].dtype\n",
    "        \n",
    "        if col_type != object:\n",
    "            c_min = df[col].min()\n",
    "            c_max = df[col].max()\n",
    "            if str(col_type)[:3] == 'int':\n",
    "                if c_min > np.iinfo(np.int8).min and c_max < np.iinfo(np.int8).max:\n",
    "                    df[col] = df[col].astype(np.int8)\n",
    "                elif c_min > np.iinfo(np.int16).min and c_max < np.iinfo(np.int16).max:\n",
    "                    df[col] = df[col].astype(np.int16)\n",
    "                elif c_min > np.iinfo(np.int32).min and c_max < np.iinfo(np.int32).max:\n",
    "                    df[col] = df[col].astype(np.int32)\n",
    "                elif c_min > np.iinfo(np.int64).min and c_max < np.iinfo(np.int64).max:\n",
    "                    df[col] = df[col].astype(np.int64)  \n",
    "            else:\n",
    "                if c_min > np.finfo(np.float16).min and c_max < np.finfo(np.float16).max:\n",
    "                    df[col] = df[col].astype(np.float16)\n",
    "                elif c_min > np.finfo(np.float32).min and c_max < np.finfo(np.float32).max:\n",
    "                    df[col] = df[col].astype(np.float32)\n",
    "                else:\n",
    "                    df[col] = df[col].astype(np.float64)\n",
    "\n",
    "\n",
    "    end_mem = df.memory_usage().sum() / 1024**2\n",
    "    print('Memory usage after optimization is: {:.2f} MB'.format(end_mem))\n",
    "    print('Decreased by {:.1f}%'.format(100 * (start_mem - end_mem) / start_mem))\n",
    "    \n",
    "    return df\n",
    "\n",
    "def import_data(file):\n",
    "    \"\"\"create a dataframe and optimize its memory usage\"\"\"\n",
    "    df = pd.read_csv(file, compression='zip', index_col=0)\n",
    "    df = reduce_mem_usage(df)\n",
    "    return df"
   ],
   "metadata": {
    "collapsed": false,
    "ExecuteTime": {
     "end_time": "2024-09-16T06:59:16.809419300Z",
     "start_time": "2024-09-16T06:59:16.796924500Z"
    }
   },
   "id": "e18304e12fb5a2f4",
   "execution_count": 2
  },
  {
   "cell_type": "code",
   "outputs": [],
   "source": [
    "def lgbm(X_train, y_train, X_val, y_val, X_test):\n",
    "    kf = KFold(n_splits=5, shuffle=True, random_state=42).split(X=X_train, y=y_train)\n",
    "    \n",
    "    param_grid = {\n",
    "        'learning_rate': [0.05],\n",
    "        'reg_alpha': [0.01, 0.05],\n",
    "        'max_depth': [5, 7],\n",
    "        } \n",
    "    \n",
    "    callbacks = [lgb.early_stopping(stopping_rounds=100)]\n",
    "    lgb_estimator = lgb.LGBMClassifier(objective='binary', n_estimators=100, num_leaves=31, metric='auc', verbosity=-1)\n",
    "    \n",
    "    gsearch = GridSearchCV(estimator=lgb_estimator, param_grid=param_grid, cv=kf)\n",
    "    lgb_model = gsearch.fit(X=X_train, y=y_train)\n",
    "    print(lgb_model.best_params_, lgb_model.best_score_)\n",
    "    \n",
    "    lgb_estimator = lgb.LGBMClassifier(objective='binary', n_estimators=100, metric='auc', verbosity=-1, **lgb_model.best_params_)\n",
    "    lgb_estimator.fit(X=X_train, y=y_train, eval_set=(X_val, y_val), callbacks=callbacks)\n",
    "    # y_train_pred = lgb_estimator.predict(X=X_train, num_iteration=lgb_estimator.best_iteration_)\n",
    "    y_train_pred_proba = lgb_estimator.predict_proba(X_train, num_iteration=lgb_estimator.best_iteration_)[:, 1]\n",
    "    y_pred_proba = lgb_estimator.predict_proba(X_test, num_iteration=lgb_estimator.best_iteration_)[:, 1]\n",
    "    \n",
    "    importance_df = pd.DataFrame()\n",
    "    importance_df[\"feature\"] = X_train.columns.tolist()\n",
    "    importance_df[\"importance\"] = lgb_estimator.feature_importances_\n",
    "    \n",
    "    # pred_auc = roc_auc_score(y_test, y_pred_proba)\n",
    "    # print('Predicting AUC score {:.6f}'.format(pred_auc))\n",
    "    train_auc = roc_auc_score(y_train, y_train_pred_proba)\n",
    "    print('Training AUC score {:.6f}'.format(train_auc))\n",
    "\n",
    "    return y_pred_proba, importance_df"
   ],
   "metadata": {
    "collapsed": false,
    "ExecuteTime": {
     "end_time": "2024-09-16T07:00:24.677551700Z",
     "start_time": "2024-09-16T07:00:24.666789600Z"
    }
   },
   "id": "361de1dfe9a09bee",
   "execution_count": 7
  },
  {
   "cell_type": "code",
   "outputs": [],
   "source": [
    "def logistic(X_train, y_train, X_val, y_val, X_test):\n",
    "    clf = LogisticRegressionCV(cv=10, max_iter=200, random_state=42).fit(X_train, y_train)\n",
    "    # y_pred = clf.predict(X_test)\n",
    "    y_train_pred_proba = clf.predict_proba(X_train)[:, 1]\n",
    "    y_val_pred_proba = clf.predict_proba(X_val)[:, 1]\n",
    "    y_pred_proba = clf.predict_proba(X_test)[:, 1]\n",
    "    \n",
    "    # pred_auc = roc_auc_score(y_test, y_pred_proba)\n",
    "    # print('Predicting AUC score {:.6f}'.format(pred_auc))\n",
    "    train_auc = roc_auc_score(y_train, y_train_pred_proba)\n",
    "    print('Training AUC score {:.6f}'.format(train_auc))\n",
    "    val_auc = roc_auc_score(y_val, y_val_pred_proba)\n",
    "    print('Validating AUC score {:.6f}'.format(val_auc))\n",
    "    \n",
    "    return y_pred_proba"
   ],
   "metadata": {
    "collapsed": false,
    "ExecuteTime": {
     "end_time": "2024-09-16T13:40:38.965375700Z",
     "start_time": "2024-09-16T13:40:38.949645400Z"
    }
   },
   "id": "bdc450377834f66b",
   "execution_count": 53
  },
  {
   "cell_type": "code",
   "outputs": [],
   "source": [
    "def rf(X_train, y_train, X_val, y_val, X_test):\n",
    "    kf = KFold(n_splits=5, shuffle=True, random_state=42).split(X=X_train, y=y_train)\n",
    "    \n",
    "    param_grid = {\n",
    "        'criterion': ['gini', 'entropy', 'log_loss'],\n",
    "        'min_samples_leaf': [1, 2, 5],\n",
    "        'max_depth': [5, 7]\n",
    "        }\n",
    "    \n",
    "    params = {\n",
    "        'criterion': 'gini',\n",
    "        'min_samples_leaf': 1,\n",
    "        'max_depth': 5\n",
    "    }\n",
    "    \n",
    "    # rf_estimator = RandomForestClassifier(n_estimators=100)\n",
    "    \n",
    "    # gsearch = GridSearchCV(estimator=rf_estimator, param_grid=param_grid, cv=kf)\n",
    "    # rf_model = gsearch.fit(X=X_train, y=y_train)\n",
    "    # print(rf_model.best_params_, rf_model.best_score_)\n",
    "    \n",
    "    rf_estimator = RandomForestClassifier(n_estimators=100, **params)#rf_model.best_params_\n",
    "    rf_estimator.fit(X=X_train, y=y_train)\n",
    "    # y_train_pred = lgb_estimator.predict(X=X_train, num_iteration=lgb_estimator.best_iteration_)\n",
    "    # y_pred = rf_estimator.predict(X=X_test, num_iteration=rf_estimator.best_iteration_)\n",
    "    y_train_pred_proba = rf_estimator.predict_proba(X_train)[:, 1]\n",
    "    y_val_pred_proba = rf_estimator.predict_proba(X_val)[:, 1]\n",
    "    y_pred_proba = rf_estimator.predict_proba(X_test)[:, 1]\n",
    "    \n",
    "    importance_df = pd.DataFrame()\n",
    "    importance_df[\"feature\"] = X_train.columns.tolist()\n",
    "    importance_df[\"importance\"] = rf_estimator.feature_importances_\n",
    "    \n",
    "    # pred_auc = roc_auc_score(y_test, y_pred_proba)\n",
    "    # print('Predicting AUC score {:.6f}'.format(pred_auc))\n",
    "    train_auc = roc_auc_score(y_train, y_train_pred_proba)\n",
    "    print('Training AUC score {:.6f}'.format(train_auc))\n",
    "    val_auc = roc_auc_score(y_val, y_val_pred_proba)\n",
    "    print('Validating AUC score {:.6f}'.format(val_auc))\n",
    "\n",
    "    return y_pred_proba, importance_df"
   ],
   "metadata": {
    "collapsed": false,
    "ExecuteTime": {
     "end_time": "2024-09-16T13:41:26.222676900Z",
     "start_time": "2024-09-16T13:41:26.216266300Z"
    }
   },
   "id": "317d5c3cff74cb09",
   "execution_count": 54
  },
  {
   "cell_type": "code",
   "outputs": [
    {
     "name": "stdout",
     "output_type": "stream",
     "text": [
      "Memory usage of dataframe is 1839.36 MB\n",
      "Memory usage after optimization is: 663.07 MB\n",
      "Decreased by 64.0%\n",
      "Memory usage of dataframe is 291.56 MB\n",
      "Memory usage after optimization is: 99.81 MB\n",
      "Decreased by 65.8%\n",
      "(307511, 783)\n",
      "(48744, 782)\n",
      "   SK_ID_CURR  TARGET  NAME_CONTRACT_TYPE  CODE_GENDER  FLAG_OWN_CAR  \\\n",
      "0      100002     1.0                   0            0             0   \n",
      "1      100003     0.0                   0            1             0   \n",
      "2      100004     0.0                   1            0             1   \n",
      "3      100006     0.0                   0            1             0   \n",
      "4      100007     0.0                   0            0             0   \n",
      "\n",
      "   FLAG_OWN_REALTY  CNT_CHILDREN  AMT_INCOME_TOTAL  AMT_CREDIT  AMT_ANNUITY  \\\n",
      "0                0             0          202500.0    406597.5      24700.5   \n",
      "1                1             0          270000.0   1293502.5      35698.5   \n",
      "2                0             0           67500.0    135000.0       6750.0   \n",
      "3                0             0          135000.0    312682.5      29686.5   \n",
      "4                0             0          121500.0    513000.0      21865.5   \n",
      "\n",
      "   ...  AMT_ANNUITY_to_prev_approved  AMT_ANNUITY_to_prev_refused  \\\n",
      "0  ...                      1.669812                          NaN   \n",
      "1  ...                     -0.368771                          NaN   \n",
      "2  ...                      0.259975                          NaN   \n",
      "3  ...                      0.359136                    -0.092048   \n",
      "4  ...                      0.780752                          NaN   \n",
      "\n",
      "   AMT_CREDIT_to_prev_approved  AMT_CREDIT_to_prev_refused  \\\n",
      "0                     1.270797                         NaN   \n",
      "1                    18.007141                         NaN   \n",
      "2                     5.714414                         NaN   \n",
      "3                     0.668681                         NaN   \n",
      "4                     2.078516                         NaN   \n",
      "\n",
      "   AMT_PAY_YEAR_to_prev_approved  AMT_PAY_YEAR_to_prev_refused  \\\n",
      "0                      -0.149414                           NaN   \n",
      "1                       3.175781                           NaN   \n",
      "2                       4.328125                           NaN   \n",
      "3                      -0.332275                     -0.620117   \n",
      "4                       0.855469                           NaN   \n",
      "\n",
      "   AMT_DIFF_CREDIT_GOODS_to_prev_approved  \\\n",
      "0                                     inf   \n",
      "1                                2.363843   \n",
      "2                               -1.000000   \n",
      "3                               -2.837011   \n",
      "4                               -1.000000   \n",
      "\n",
      "   AMT_DIFF_CREDIT_GOODS_to_prev_refused  \\\n",
      "0                                    NaN   \n",
      "1                                    NaN   \n",
      "2                                    NaN   \n",
      "3                                -0.9281   \n",
      "4                                    NaN   \n",
      "\n",
      "   AMT_CREDIT_GOODS_PERC_to_prev_approved  \\\n",
      "0                                0.158447   \n",
      "1                                0.082764   \n",
      "2                                0.207642   \n",
      "3                                0.106018   \n",
      "4                               -0.044312   \n",
      "\n",
      "   AMT_CREDIT_GOODS_PERC_to_prev_refused  \n",
      "0                                    NaN  \n",
      "1                                    NaN  \n",
      "2                                    NaN  \n",
      "3                              -0.200439  \n",
      "4                                    NaN  \n",
      "\n",
      "[5 rows x 783 columns]\n",
      "   SK_ID_CURR  NAME_CONTRACT_TYPE  CODE_GENDER  FLAG_OWN_CAR  FLAG_OWN_REALTY  \\\n",
      "0      100001                   0            1             0                0   \n",
      "1      100005                   0            0             0                0   \n",
      "2      100013                   0            0             1                0   \n",
      "3      100028                   0            1             0                0   \n",
      "4      100038                   0            0             1                1   \n",
      "\n",
      "   CNT_CHILDREN  AMT_INCOME_TOTAL  AMT_CREDIT  AMT_ANNUITY  NAME_TYPE_SUITE  \\\n",
      "0             0          135000.0    568800.0      20560.5                0   \n",
      "1             0           99000.0    222768.0      17370.0                0   \n",
      "2             0          202500.0    663264.0      69777.0               -1   \n",
      "3             2          315000.0   1575000.0      49018.5                0   \n",
      "4             1          180000.0    625500.0      32067.0                0   \n",
      "\n",
      "   ...  AMT_ANNUITY_to_prev_approved  AMT_ANNUITY_to_prev_refused  \\\n",
      "0  ...                      4.203125                          NaN   \n",
      "1  ...                      2.609375                          NaN   \n",
      "2  ...                      5.078125                          NaN   \n",
      "3  ...                      5.058594                          NaN   \n",
      "4  ...                      1.888672                          NaN   \n",
      "\n",
      "   AMT_CREDIT_to_prev_approved  AMT_CREDIT_to_prev_refused  \\\n",
      "0                    22.906250                         NaN   \n",
      "1                     4.546875                         NaN   \n",
      "2                    17.375000                         NaN   \n",
      "3                    10.375000                         NaN   \n",
      "4                     5.753906                         NaN   \n",
      "\n",
      "   AMT_PAY_YEAR_to_prev_approved  AMT_PAY_YEAR_to_prev_refused  \\\n",
      "0                       3.595703                           NaN   \n",
      "1                       0.537109                           NaN   \n",
      "2                      -0.175049                           NaN   \n",
      "3                       0.919922                           NaN   \n",
      "4                       1.337891                           NaN   \n",
      "\n",
      "   AMT_DIFF_CREDIT_GOODS_to_prev_approved  \\\n",
      "0                             -114.304720   \n",
      "1                              -10.580646   \n",
      "2                                0.634554   \n",
      "3                               -1.000000   \n",
      "4                               -1.000000   \n",
      "\n",
      "   AMT_DIFF_CREDIT_GOODS_to_prev_refused  \\\n",
      "0                                    NaN   \n",
      "1                                    NaN   \n",
      "2                                    NaN   \n",
      "3                                    NaN   \n",
      "4                                    NaN   \n",
      "\n",
      "   AMT_CREDIT_GOODS_PERC_to_prev_approved  \\\n",
      "0                                0.319824   \n",
      "1                                0.375244   \n",
      "2                                0.000416   \n",
      "3                                0.051270   \n",
      "4                               -0.125854   \n",
      "\n",
      "   AMT_CREDIT_GOODS_PERC_to_prev_refused  \n",
      "0                                    NaN  \n",
      "1                                    NaN  \n",
      "2                                    NaN  \n",
      "3                                    NaN  \n",
      "4                                    NaN  \n",
      "\n",
      "[5 rows x 782 columns]\n"
     ]
    }
   ],
   "source": [
    "application_train = import_data('features_train.csv')\n",
    "application_test = import_data('features_test.csv')\n",
    "application_test = application_test.drop('TARGET', axis=1)\n",
    "print(application_train.shape)\n",
    "print(application_test.shape)\n",
    "print(application_train.head())\n",
    "print(application_test.head())"
   ],
   "metadata": {
    "collapsed": false,
    "ExecuteTime": {
     "end_time": "2024-09-16T07:01:00.178623900Z",
     "start_time": "2024-09-16T07:00:35.512894Z"
    }
   },
   "id": "d3b5859f0dd3d7a0",
   "execution_count": 10
  },
  {
   "cell_type": "code",
   "outputs": [
    {
     "name": "stderr",
     "output_type": "stream",
     "text": [
      "C:\\Users\\22765\\AppData\\Local\\Temp\\ipykernel_20572\\1921938411.py:10: PerformanceWarning: DataFrame is highly fragmented.  This is usually the result of calling `frame.insert` many times, which has poor performance.  Consider joining all columns at once using pd.concat(axis=1) instead. To get a de-fragmented frame, use `newframe = frame.copy()`\n",
      "  application_train['FLAG_DOCUMENT'] = application_train[FLAG_DOCUMENT].sum(axis=1)\n",
      "C:\\Users\\22765\\AppData\\Local\\Temp\\ipykernel_20572\\1921938411.py:11: PerformanceWarning: DataFrame is highly fragmented.  This is usually the result of calling `frame.insert` many times, which has poor performance.  Consider joining all columns at once using pd.concat(axis=1) instead. To get a de-fragmented frame, use `newframe = frame.copy()`\n",
      "  application_test['FLAG_DOCUMENT'] = application_test[FLAG_DOCUMENT].sum(axis=1)\n",
      "C:\\Users\\22765\\AppData\\Local\\Temp\\ipykernel_20572\\1921938411.py:15: PerformanceWarning: DataFrame is highly fragmented.  This is usually the result of calling `frame.insert` many times, which has poor performance.  Consider joining all columns at once using pd.concat(axis=1) instead. To get a de-fragmented frame, use `newframe = frame.copy()`\n",
      "  application_train['AGE'] = application_train['DAYS_BIRTH'] / (-365)\n",
      "C:\\Users\\22765\\AppData\\Local\\Temp\\ipykernel_20572\\1921938411.py:16: PerformanceWarning: DataFrame is highly fragmented.  This is usually the result of calling `frame.insert` many times, which has poor performance.  Consider joining all columns at once using pd.concat(axis=1) instead. To get a de-fragmented frame, use `newframe = frame.copy()`\n",
      "  application_test['AGE'] = application_test['DAYS_BIRTH'] / (-365)\n",
      "C:\\Users\\22765\\AppData\\Local\\Temp\\ipykernel_20572\\1921938411.py:18: PerformanceWarning: DataFrame is highly fragmented.  This is usually the result of calling `frame.insert` many times, which has poor performance.  Consider joining all columns at once using pd.concat(axis=1) instead. To get a de-fragmented frame, use `newframe = frame.copy()`\n",
      "  application_train['MEAN_EXT_SOURCE'] = application_train[['EXT_SOURCE_1', 'EXT_SOURCE_2', 'EXT_SOURCE_3']].mean(axis=1)\n",
      "C:\\Users\\22765\\AppData\\Local\\Temp\\ipykernel_20572\\1921938411.py:19: PerformanceWarning: DataFrame is highly fragmented.  This is usually the result of calling `frame.insert` many times, which has poor performance.  Consider joining all columns at once using pd.concat(axis=1) instead. To get a de-fragmented frame, use `newframe = frame.copy()`\n",
      "  application_test['MEAN_EXT_SOURCE'] = application_test[['EXT_SOURCE_1', 'EXT_SOURCE_2', 'EXT_SOURCE_3']].mean(axis=1)\n",
      "C:\\Users\\22765\\AppData\\Local\\Temp\\ipykernel_20572\\1921938411.py:21: PerformanceWarning: DataFrame is highly fragmented.  This is usually the result of calling `frame.insert` many times, which has poor performance.  Consider joining all columns at once using pd.concat(axis=1) instead. To get a de-fragmented frame, use `newframe = frame.copy()`\n",
      "  application_train['YEARS_EMPLOYED'] = application_train['DAYS_EMPLOYED'] / (-365)\n",
      "C:\\Users\\22765\\AppData\\Local\\Temp\\ipykernel_20572\\1921938411.py:22: PerformanceWarning: DataFrame is highly fragmented.  This is usually the result of calling `frame.insert` many times, which has poor performance.  Consider joining all columns at once using pd.concat(axis=1) instead. To get a de-fragmented frame, use `newframe = frame.copy()`\n",
      "  application_test['YEARS_EMPLOYED'] = application_test['DAYS_EMPLOYED'] / (-365)\n",
      "C:\\Users\\22765\\AppData\\Local\\Temp\\ipykernel_20572\\1921938411.py:24: PerformanceWarning: DataFrame is highly fragmented.  This is usually the result of calling `frame.insert` many times, which has poor performance.  Consider joining all columns at once using pd.concat(axis=1) instead. To get a de-fragmented frame, use `newframe = frame.copy()`\n",
      "  application_train['DAYS_BIRTH_SQUARED'] = application_train['DAYS_BIRTH'] ** 2\n",
      "C:\\Users\\22765\\AppData\\Local\\Temp\\ipykernel_20572\\1921938411.py:25: PerformanceWarning: DataFrame is highly fragmented.  This is usually the result of calling `frame.insert` many times, which has poor performance.  Consider joining all columns at once using pd.concat(axis=1) instead. To get a de-fragmented frame, use `newframe = frame.copy()`\n",
      "  application_test['DAYS_BIRTH_SQUARED'] = application_test['DAYS_BIRTH'] ** 2\n",
      "C:\\Users\\22765\\AppData\\Local\\Temp\\ipykernel_20572\\1921938411.py:27: PerformanceWarning: DataFrame is highly fragmented.  This is usually the result of calling `frame.insert` many times, which has poor performance.  Consider joining all columns at once using pd.concat(axis=1) instead. To get a de-fragmented frame, use `newframe = frame.copy()`\n",
      "  application_train['DEBT_TO_INCOME_RATIO'] = application_train['AMT_CREDIT'] / application_train['AMT_INCOME_TOTAL']\n",
      "C:\\Users\\22765\\AppData\\Local\\Temp\\ipykernel_20572\\1921938411.py:28: PerformanceWarning: DataFrame is highly fragmented.  This is usually the result of calling `frame.insert` many times, which has poor performance.  Consider joining all columns at once using pd.concat(axis=1) instead. To get a de-fragmented frame, use `newframe = frame.copy()`\n",
      "  application_test['DEBT_TO_INCOME_RATIO'] = application_test['AMT_CREDIT'] / application_test['AMT_INCOME_TOTAL']\n",
      "C:\\Users\\22765\\AppData\\Local\\Temp\\ipykernel_20572\\1921938411.py:30: PerformanceWarning: DataFrame is highly fragmented.  This is usually the result of calling `frame.insert` many times, which has poor performance.  Consider joining all columns at once using pd.concat(axis=1) instead. To get a de-fragmented frame, use `newframe = frame.copy()`\n",
      "  application_train['INCOME_TO_CREDIT'] = application_train['AMT_INCOME_TOTAL'] / application_train['AMT_CREDIT']\n",
      "C:\\Users\\22765\\AppData\\Local\\Temp\\ipykernel_20572\\1921938411.py:31: PerformanceWarning: DataFrame is highly fragmented.  This is usually the result of calling `frame.insert` many times, which has poor performance.  Consider joining all columns at once using pd.concat(axis=1) instead. To get a de-fragmented frame, use `newframe = frame.copy()`\n",
      "  application_test['INCOME_TO_CREDIT'] = application_test['AMT_INCOME_TOTAL'] / application_test['AMT_CREDIT']\n",
      "C:\\Users\\22765\\AppData\\Local\\Temp\\ipykernel_20572\\1921938411.py:32: PerformanceWarning: DataFrame is highly fragmented.  This is usually the result of calling `frame.insert` many times, which has poor performance.  Consider joining all columns at once using pd.concat(axis=1) instead. To get a de-fragmented frame, use `newframe = frame.copy()`\n",
      "  application_train['_INCOME_CLASS'] = pd.qcut(application_train['AMT_INCOME_TOTAL'], 3,\n",
      "C:\\Users\\22765\\AppData\\Local\\Temp\\ipykernel_20572\\1921938411.py:34: PerformanceWarning: DataFrame is highly fragmented.  This is usually the result of calling `frame.insert` many times, which has poor performance.  Consider joining all columns at once using pd.concat(axis=1) instead. To get a de-fragmented frame, use `newframe = frame.copy()`\n",
      "  application_train['ANNUITY_CLASS'] = pd.qcut(application_train['AMT_ANNUITY'], 3,\n",
      "C:\\Users\\22765\\AppData\\Local\\Temp\\ipykernel_20572\\1921938411.py:37: PerformanceWarning: DataFrame is highly fragmented.  This is usually the result of calling `frame.insert` many times, which has poor performance.  Consider joining all columns at once using pd.concat(axis=1) instead. To get a de-fragmented frame, use `newframe = frame.copy()`\n",
      "  application_train['DAYS_BIRTH_CLASS'] = np.where(application_train['DAYS_BIRTH'] < -15000, 1, 0)\n",
      "C:\\Users\\22765\\AppData\\Local\\Temp\\ipykernel_20572\\1921938411.py:38: PerformanceWarning: DataFrame is highly fragmented.  This is usually the result of calling `frame.insert` many times, which has poor performance.  Consider joining all columns at once using pd.concat(axis=1) instead. To get a de-fragmented frame, use `newframe = frame.copy()`\n",
      "  application_train['CREDIT_UNDER_100K'] = np.where(application_train['AMT_CREDIT'] < 100000, 1, 0)\n",
      "C:\\Users\\22765\\AppData\\Local\\Temp\\ipykernel_20572\\1921938411.py:39: PerformanceWarning: DataFrame is highly fragmented.  This is usually the result of calling `frame.insert` many times, which has poor performance.  Consider joining all columns at once using pd.concat(axis=1) instead. To get a de-fragmented frame, use `newframe = frame.copy()`\n",
      "  application_train['YEARS_EMPLOYED_CLASS'] = np.where(application_train['DAYS_EMPLOYED'] < 100000, 1, 0)\n",
      "C:\\Users\\22765\\AppData\\Local\\Temp\\ipykernel_20572\\1921938411.py:41: PerformanceWarning: DataFrame is highly fragmented.  This is usually the result of calling `frame.insert` many times, which has poor performance.  Consider joining all columns at once using pd.concat(axis=1) instead. To get a de-fragmented frame, use `newframe = frame.copy()`\n",
      "  application_test['_INCOME_CLASS'] = pd.qcut(application_test['AMT_INCOME_TOTAL'], 3,\n",
      "C:\\Users\\22765\\AppData\\Local\\Temp\\ipykernel_20572\\1921938411.py:43: PerformanceWarning: DataFrame is highly fragmented.  This is usually the result of calling `frame.insert` many times, which has poor performance.  Consider joining all columns at once using pd.concat(axis=1) instead. To get a de-fragmented frame, use `newframe = frame.copy()`\n",
      "  application_test['ANNUITY_CLASS'] = pd.qcut(application_test['AMT_ANNUITY'], 3,\n",
      "C:\\Users\\22765\\AppData\\Local\\Temp\\ipykernel_20572\\1921938411.py:46: PerformanceWarning: DataFrame is highly fragmented.  This is usually the result of calling `frame.insert` many times, which has poor performance.  Consider joining all columns at once using pd.concat(axis=1) instead. To get a de-fragmented frame, use `newframe = frame.copy()`\n",
      "  application_test['DAYS_BIRTH_CLASS'] = np.where(application_test['DAYS_BIRTH'] < -15000, 1, 0)\n",
      "C:\\Users\\22765\\AppData\\Local\\Temp\\ipykernel_20572\\1921938411.py:47: PerformanceWarning: DataFrame is highly fragmented.  This is usually the result of calling `frame.insert` many times, which has poor performance.  Consider joining all columns at once using pd.concat(axis=1) instead. To get a de-fragmented frame, use `newframe = frame.copy()`\n",
      "  application_test['CREDIT_UNDER_100K'] = np.where(application_test['AMT_CREDIT'] < 100000, 1, 0)\n",
      "C:\\Users\\22765\\AppData\\Local\\Temp\\ipykernel_20572\\1921938411.py:48: PerformanceWarning: DataFrame is highly fragmented.  This is usually the result of calling `frame.insert` many times, which has poor performance.  Consider joining all columns at once using pd.concat(axis=1) instead. To get a de-fragmented frame, use `newframe = frame.copy()`\n",
      "  application_test['YEARS_EMPLOYED_CLASS'] = np.where(application_test['DAYS_EMPLOYED'] < 100000, 1, 0)\n"
     ]
    },
    {
     "name": "stdout",
     "output_type": "stream",
     "text": [
      "missing columns:  Index(['OWN_CAR_AGE', 'YEARS_BUILD_MODE', 'FLOORSMIN_MODE',\n",
      "       'LIVINGAPARTMENTS_MODE', 'NONLIVINGAPARTMENTS_MODE', 'COMMONAREA_MEDI',\n",
      "       'NEW_SOURCES_PROD', 'NEW_CAR_TO_BIRTH_RATIO', 'NEW_CAR_TO_EMPLOY_RATIO',\n",
      "       'prev_avg_RATE_INTEREST_PRIMARY',\n",
      "       ...\n",
      "       'inst_DAYS_LAST_UNDERPAID', 'cc_score', 'bubl_score', 'Total_AMT_LEFT',\n",
      "       'Total_AMT_LEFT_INCOME_RATIO', 'AMT_ANNUITY_to_prev_refused',\n",
      "       'AMT_CREDIT_to_prev_refused', 'AMT_PAY_YEAR_to_prev_refused',\n",
      "       'AMT_DIFF_CREDIT_GOODS_to_prev_refused',\n",
      "       'AMT_CREDIT_GOODS_PERC_to_prev_refused'],\n",
      "      dtype='object', length=301)\n"
     ]
    }
   ],
   "source": [
    "application_train['CODE_GENDER'].replace('XNA', np.nan, inplace=True)\n",
    "application_test['CODE_GENDER'].replace('XNA', np.nan, inplace=True)\n",
    "FLAG_DOCUMENT = [\n",
    "    'FLAG_DOCUMENT_3', 'FLAG_DOCUMENT_4', 'FLAG_DOCUMENT_5',\n",
    "    'FLAG_DOCUMENT_6', 'FLAG_DOCUMENT_7', 'FLAG_DOCUMENT_8',\n",
    "    'FLAG_DOCUMENT_9', 'FLAG_DOCUMENT_11', 'FLAG_DOCUMENT_13',\n",
    "    'FLAG_DOCUMENT_14', 'FLAG_DOCUMENT_15', 'FLAG_DOCUMENT_16',\n",
    "    'FLAG_DOCUMENT_17', 'FLAG_DOCUMENT_18', 'FLAG_DOCUMENT_19',\n",
    "    'FLAG_DOCUMENT_20', 'FLAG_DOCUMENT_21']\n",
    "application_train['FLAG_DOCUMENT'] = application_train[FLAG_DOCUMENT].sum(axis=1)\n",
    "application_test['FLAG_DOCUMENT'] = application_test[FLAG_DOCUMENT].sum(axis=1)\n",
    "application_train.drop(FLAG_DOCUMENT, axis=1, inplace=True)\n",
    "application_test.drop(FLAG_DOCUMENT, axis=1, inplace=True)\n",
    "# Age Feature\n",
    "application_train['AGE'] = application_train['DAYS_BIRTH'] / (-365)\n",
    "application_test['AGE'] = application_test['DAYS_BIRTH'] / (-365)\n",
    "# MEAN_EXT_SOURCE\n",
    "application_train['MEAN_EXT_SOURCE'] = application_train[['EXT_SOURCE_1', 'EXT_SOURCE_2', 'EXT_SOURCE_3']].mean(axis=1)\n",
    "application_test['MEAN_EXT_SOURCE'] = application_test[['EXT_SOURCE_1', 'EXT_SOURCE_2', 'EXT_SOURCE_3']].mean(axis=1)\n",
    "# Generate YEARS_EMPLOYED\n",
    "application_train['YEARS_EMPLOYED'] = application_train['DAYS_EMPLOYED'] / (-365)\n",
    "application_test['YEARS_EMPLOYED'] = application_test['DAYS_EMPLOYED'] / (-365)\n",
    "# DAYS_BIRTH_SQUARED\n",
    "application_train['DAYS_BIRTH_SQUARED'] = application_train['DAYS_BIRTH'] ** 2\n",
    "application_test['DAYS_BIRTH_SQUARED'] = application_test['DAYS_BIRTH'] ** 2\n",
    "# Generate DEBT_TO_INCOME_RATIO \n",
    "application_train['DEBT_TO_INCOME_RATIO'] = application_train['AMT_CREDIT'] / application_train['AMT_INCOME_TOTAL']\n",
    "application_test['DEBT_TO_INCOME_RATIO'] = application_test['AMT_CREDIT'] / application_test['AMT_INCOME_TOTAL']\n",
    "# Generate INCOME_TO_CREDIT \n",
    "application_train['INCOME_TO_CREDIT'] = application_train['AMT_INCOME_TOTAL'] / application_train['AMT_CREDIT']\n",
    "application_test['INCOME_TO_CREDIT'] = application_test['AMT_INCOME_TOTAL'] / application_test['AMT_CREDIT']\n",
    "application_train['_INCOME_CLASS'] = pd.qcut(application_train['AMT_INCOME_TOTAL'], 3,\n",
    "                                             labels=['Low_INCOME', 'Medium_INCOME', 'High_INCOME'])\n",
    "application_train['ANNUITY_CLASS'] = pd.qcut(application_train['AMT_ANNUITY'], 3,\n",
    "                                             labels=['Low_ANNUITY', 'Medium_ANNUITY', 'High_ANNUITY'])\n",
    "# application_train['AMT_GOODS_PRICE_0.2_0.7']=np.where((application_train['AMT_GOODS_PRICE']<= 70000) & (application_train['AMT_GOODS_PRICE']>=20000) ,1,0)\n",
    "application_train['DAYS_BIRTH_CLASS'] = np.where(application_train['DAYS_BIRTH'] < -15000, 1, 0)\n",
    "application_train['CREDIT_UNDER_100K'] = np.where(application_train['AMT_CREDIT'] < 100000, 1, 0)\n",
    "application_train['YEARS_EMPLOYED_CLASS'] = np.where(application_train['DAYS_EMPLOYED'] < 100000, 1, 0)\n",
    "\n",
    "application_test['_INCOME_CLASS'] = pd.qcut(application_test['AMT_INCOME_TOTAL'], 3,\n",
    "                                            labels=['Low_INCOME', 'Medium_INCOME', 'High_INCOME'])\n",
    "application_test['ANNUITY_CLASS'] = pd.qcut(application_test['AMT_ANNUITY'], 3,\n",
    "                                            labels=['Low_ANNUITY', 'Medium_ANNUITY', 'High_ANNUITY'])\n",
    "# application_test['AMT_GOODS_PRICE_0.2_0.7']=np.where((application_test['AMT_GOODS_PRICE']<= 7000) & (application_test['AMT_GOODS_PRICE']>=2000) ,1,0)\n",
    "application_test['DAYS_BIRTH_CLASS'] = np.where(application_test['DAYS_BIRTH'] < -15000, 1, 0)\n",
    "application_test['CREDIT_UNDER_100K'] = np.where(application_test['AMT_CREDIT'] < 100000, 1, 0)\n",
    "application_test['YEARS_EMPLOYED_CLASS'] = np.where(application_test['DAYS_EMPLOYED'] < 100000, 1, 0)\n",
    "AMT_REQ_CREDIT = ['AMT_REQ_CREDIT_BUREAU_HOUR', 'AMT_REQ_CREDIT_BUREAU_DAY',\n",
    "                  'AMT_REQ_CREDIT_BUREAU_WEEK', 'AMT_REQ_CREDIT_BUREAU_MON', 'AMT_REQ_CREDIT_BUREAU_QRT']\n",
    "application_train.drop(AMT_REQ_CREDIT, axis=1, inplace=True)\n",
    "application_test.drop(AMT_REQ_CREDIT, axis=1, inplace=True)\n",
    "SK_ID_CURR = application_test[\"SK_ID_CURR\"]\n",
    "application_test.drop('SK_ID_CURR', inplace=True, axis=1)\n",
    "SK_ID_CURR_TRAIN = application_train[\"SK_ID_CURR\"]\n",
    "application_train.drop('SK_ID_CURR', inplace=True, axis=1)\n",
    "# Detect highly missing numeric features \n",
    "application_train_numeric = application_train.select_dtypes(include=['number'])\n",
    "missings = application_train_numeric.loc[:, application_train_numeric.isna().mean() >= 0.6]\n",
    "highly_missing_features = missings.columns\n",
    "print(\"missing columns: \", missings.columns)\n",
    "#Remove highly missing features\n",
    "application_train.drop(highly_missing_features, axis=1, inplace=True)\n",
    "application_test.drop(highly_missing_features, axis=1, inplace=True)\n",
    "target = application_train['TARGET']\n",
    "features_train = application_train.drop('TARGET', axis=1)\n",
    "\n",
    "numeric_imputer = SimpleImputer(strategy='median')\n",
    "\n",
    "numeric_features_train = features_train.select_dtypes(include='number')\n",
    "numeric_features_test = application_test.select_dtypes(include='number')\n",
    "\n",
    "numeric_features_train.replace([np.inf, -np.inf], np.nan, inplace=True)\n",
    "numeric_features_test.replace([np.inf, -np.inf], np.nan, inplace=True)\n",
    "\n",
    "imputed_numeric_features_train = numeric_imputer.fit_transform(numeric_features_train)\n",
    "imputed_numeric_features_test = numeric_imputer.transform(numeric_features_test)\n",
    "categorical_features_train = features_train.select_dtypes(include='object')\n",
    "# using dummy_na=False ,we perform onehot encoding without affecting data distribution\n",
    "dummy_categorical_features_train = pd.get_dummies(categorical_features_train, dummy_na=False)\n",
    "\n",
    "# Concatenate imputed numerical and categorical features Train\n",
    "imputed_features_train = pd.concat(\n",
    "    [pd.DataFrame(imputed_numeric_features_train, columns=numeric_features_train.columns),\n",
    "     dummy_categorical_features_train], axis=1)\n",
    "\n",
    "# Impute categorical features Test using mode imputation and one-hot encoding\n",
    "categorical_features_test = application_test.select_dtypes(include='object')\n",
    "dummy_categorical_features_test = pd.get_dummies(categorical_features_test, dummy_na=False)\n",
    "missing_columns = set(dummy_categorical_features_train.columns) - set(\n",
    "    dummy_categorical_features_test.columns.get_level_values(0))\n",
    "for col in missing_columns:\n",
    "    dummy_categorical_features_test[col] = 0\n",
    "dummy_categorical_features_test = dummy_categorical_features_test[dummy_categorical_features_train.columns]\n",
    "\n",
    "# Concatenate imputed numerical and categorical features\n",
    "imputed_features_test = pd.concat(\n",
    "    [pd.DataFrame(imputed_numeric_features_test, columns=numeric_features_test.columns),\n",
    "    dummy_categorical_features_test], axis=1)"
   ],
   "metadata": {
    "collapsed": false,
    "ExecuteTime": {
     "end_time": "2024-09-16T07:01:28.082175600Z",
     "start_time": "2024-09-16T07:01:07.717524800Z"
    }
   },
   "id": "14148e8c0b8410e3",
   "execution_count": 11
  },
  {
   "cell_type": "code",
   "outputs": [
    {
     "name": "stdout",
     "output_type": "stream",
     "text": [
      "NAME_CONTRACT_TYPE                                                                float64\n",
      "CODE_GENDER                                                                       float64\n",
      "FLAG_OWN_CAR                                                                      float64\n",
      "FLAG_OWN_REALTY                                                                   float64\n",
      "CNT_CHILDREN                                                                      float64\n",
      "                                                                                   ...   \n",
      "bureau_CREDIT_TYPE_mode_sum_CREDIT_TYPE_Loan for working capital replenishment       bool\n",
      "bureau_CREDIT_TYPE_mode_sum_CREDIT_TYPE_Microloan                                    bool\n",
      "bureau_CREDIT_TYPE_mode_sum_CREDIT_TYPE_Mortgage                                     bool\n",
      "bureau_CREDIT_TYPE_mode_sum_CREDIT_TYPE_Real estate loan                             bool\n",
      "bureau_CREDIT_TYPE_mode_sum_CREDIT_TYPE_Unknown type of loan                         bool\n",
      "Length: 600, dtype: object\n",
      "Index(['prev_sum_NAME_TYPE_SUITE_Spouse, partner',\n",
      "       'prev_NAME_TYPE_SUITE_mode_sum_NAME_TYPE_SUITE_Spouse, partner',\n",
      "       'prev_PRODUCT_COMBINATION_mode_sum_PRODUCT_COMBINATION_Cash Street: high',\n",
      "       'prev_PRODUCT_COMBINATION_mode_sum_PRODUCT_COMBINATION_Cash Street: low',\n",
      "       'prev_PRODUCT_COMBINATION_mode_sum_PRODUCT_COMBINATION_Cash Street: middle',\n",
      "       'prev_PRODUCT_COMBINATION_mode_sum_PRODUCT_COMBINATION_Cash X-Sell: high',\n",
      "       'prev_PRODUCT_COMBINATION_mode_sum_PRODUCT_COMBINATION_Cash X-Sell: low',\n",
      "       'prev_PRODUCT_COMBINATION_mode_sum_PRODUCT_COMBINATION_Cash X-Sell: middle'],\n",
      "      dtype='object')\n"
     ]
    }
   ],
   "source": [
    "X = imputed_features_train.copy()\n",
    "print(X.dtypes)\n",
    "y = target\n",
    "\n",
    "X.fillna(-9999, inplace=True)\n",
    "y.fillna(-9999, inplace=True)\n",
    "print(X.columns[X.columns.str.contains(',|[|]|{|}|\"|:')])\n",
    "new_col_names = X.columns.str.replace(',', ' ')\n",
    "new_col_names = new_col_names.str.replace(':', ' ')\n",
    "X.columns = new_col_names\n",
    "\n",
    "#splitting data to train and test sets\n",
    "X_train, X_val, y_train, y_val = train_test_split(X, y, stratify=y, test_size=0.1, random_state=27)\n",
    "X_test = imputed_features_test.fillna(-9999)\n",
    "X_test.columns = new_col_names"
   ],
   "metadata": {
    "collapsed": false,
    "ExecuteTime": {
     "end_time": "2024-09-16T07:22:09.011102200Z",
     "start_time": "2024-09-16T07:22:05.409253700Z"
    }
   },
   "id": "66352445ae158ef2",
   "execution_count": 18
  },
  {
   "cell_type": "code",
   "outputs": [
    {
     "name": "stdout",
     "output_type": "stream",
     "text": [
      "{'learning_rate': 0.05, 'max_depth': 7, 'reg_alpha': 0.01} 0.9202193969814141\n",
      "Training until validation scores don't improve for 100 rounds\n",
      "Did not meet early stopping. Best iteration is:\n",
      "[100]\tvalid_0's auc: 0.791541\n",
      "Training AUC score 0.812219\n"
     ]
    }
   ],
   "source": [
    "lgbm_pred, lgbm_importance = lgbm(X_train, y_train, X_val, y_val, X_test)"
   ],
   "metadata": {
    "collapsed": false,
    "ExecuteTime": {
     "end_time": "2024-09-16T07:04:56.124657800Z",
     "start_time": "2024-09-16T07:01:55.083148100Z"
    }
   },
   "id": "cd1480402de48e96",
   "execution_count": 14
  },
  {
   "cell_type": "code",
   "outputs": [
    {
     "name": "stdout",
     "output_type": "stream",
     "text": [
      "[0.02736681 0.17262121 0.04446821 ... 0.01848086 0.03793892 0.10448097]\n"
     ]
    }
   ],
   "source": [
    "print(lgbm_pred)"
   ],
   "metadata": {
    "collapsed": false,
    "ExecuteTime": {
     "end_time": "2024-09-16T07:05:44.672066100Z",
     "start_time": "2024-09-16T07:05:44.652777100Z"
    }
   },
   "id": "b4c7a42496aa8865",
   "execution_count": 15
  },
  {
   "cell_type": "code",
   "outputs": [
    {
     "data": {
      "text/plain": "                   feature  importance\n420         buro_score_sum         132\n60    NEW_EXT_SOURCES_MEAN         123\n416        prev_score_mean         113\n65            AMT_PAY_YEAR          98\n68   AMT_DIFF_CREDIT_GOODS          91\n421        buro_score_mean          89\n33            EXT_SOURCE_1          73\n34            EXT_SOURCE_2          72\n1              CODE_GENDER          67\n443        MEAN_EXT_SOURCE          59",
      "text/html": "<div>\n<style scoped>\n    .dataframe tbody tr th:only-of-type {\n        vertical-align: middle;\n    }\n\n    .dataframe tbody tr th {\n        vertical-align: top;\n    }\n\n    .dataframe thead th {\n        text-align: right;\n    }\n</style>\n<table border=\"1\" class=\"dataframe\">\n  <thead>\n    <tr style=\"text-align: right;\">\n      <th></th>\n      <th>feature</th>\n      <th>importance</th>\n    </tr>\n  </thead>\n  <tbody>\n    <tr>\n      <th>420</th>\n      <td>buro_score_sum</td>\n      <td>132</td>\n    </tr>\n    <tr>\n      <th>60</th>\n      <td>NEW_EXT_SOURCES_MEAN</td>\n      <td>123</td>\n    </tr>\n    <tr>\n      <th>416</th>\n      <td>prev_score_mean</td>\n      <td>113</td>\n    </tr>\n    <tr>\n      <th>65</th>\n      <td>AMT_PAY_YEAR</td>\n      <td>98</td>\n    </tr>\n    <tr>\n      <th>68</th>\n      <td>AMT_DIFF_CREDIT_GOODS</td>\n      <td>91</td>\n    </tr>\n    <tr>\n      <th>421</th>\n      <td>buro_score_mean</td>\n      <td>89</td>\n    </tr>\n    <tr>\n      <th>33</th>\n      <td>EXT_SOURCE_1</td>\n      <td>73</td>\n    </tr>\n    <tr>\n      <th>34</th>\n      <td>EXT_SOURCE_2</td>\n      <td>72</td>\n    </tr>\n    <tr>\n      <th>1</th>\n      <td>CODE_GENDER</td>\n      <td>67</td>\n    </tr>\n    <tr>\n      <th>443</th>\n      <td>MEAN_EXT_SOURCE</td>\n      <td>59</td>\n    </tr>\n  </tbody>\n</table>\n</div>"
     },
     "execution_count": 32,
     "metadata": {},
     "output_type": "execute_result"
    }
   ],
   "source": [
    "lgbm_top_f = lgbm_importance.sort_values(by='importance', ascending=False).head(10)\n",
    "lgbm_top_f"
   ],
   "metadata": {
    "collapsed": false,
    "ExecuteTime": {
     "end_time": "2024-09-16T12:54:37.667691400Z",
     "start_time": "2024-09-16T12:54:37.641837900Z"
    }
   },
   "id": "cb4b664e809a1b3e",
   "execution_count": 32
  },
  {
   "cell_type": "code",
   "outputs": [
    {
     "data": {
      "text/plain": "<BarContainer object of 10 artists>"
     },
     "execution_count": 48,
     "metadata": {},
     "output_type": "execute_result"
    },
    {
     "data": {
      "text/plain": "<Figure size 300x500 with 1 Axes>",
      "image/png": "[encoded data removed]"
     },
     "metadata": {},
     "output_type": "display_data"
    }
   ],
   "source": [
    "import matplotlib.pyplot as plt\n",
    "\n",
    "plt.figure(figsize=(3,5))\n",
    "lgbm_top_f = lgbm_top_f.sort_values(by='importance', ascending=True)\n",
    "ax = plt.gca()\n",
    "ax.yaxis.set_ticks_position('right')\n",
    "ax.invert_xaxis()\n",
    "plt.barh(lgbm_top_f['feature'], lgbm_top_f['importance'])"
   ],
   "metadata": {
    "collapsed": false,
    "ExecuteTime": {
     "end_time": "2024-09-16T13:08:07.979721300Z",
     "start_time": "2024-09-16T13:08:07.855604500Z"
    }
   },
   "id": "97329675c0be3",
   "execution_count": 48
  },
  {
   "cell_type": "code",
   "outputs": [],
   "source": [
    "lgbm_pred_df = pd.DataFrame({'SK_ID_CURR': SK_ID_CURR, 'TARGET': lgbm_pred})\n",
    "lgbm_pred_df.to_csv('lgb_pred.csv')"
   ],
   "metadata": {
    "collapsed": false,
    "ExecuteTime": {
     "end_time": "2024-09-16T07:05:51.268659Z",
     "start_time": "2024-09-16T07:05:51.167929500Z"
    }
   },
   "id": "f8b91f58a00e22d8",
   "execution_count": 16
  },
  {
   "cell_type": "code",
   "outputs": [
    {
     "name": "stdout",
     "output_type": "stream",
     "text": [
      "Training AUC score 0.571296\n",
      "Validating AUC score 0.576822\n"
     ]
    }
   ],
   "source": [
    "logistic_pred = logistic(X_train, y_train, X_val, y_val, X_test)"
   ],
   "metadata": {
    "collapsed": false,
    "ExecuteTime": {
     "end_time": "2024-09-16T13:43:58.230039Z",
     "start_time": "2024-09-16T13:41:36.151675700Z"
    }
   },
   "id": "eb3a5ec4da9680b7",
   "execution_count": 55
  },
  {
   "cell_type": "code",
   "outputs": [
    {
     "name": "stdout",
     "output_type": "stream",
     "text": [
      "[0.18323557 0.2512998  0.10472482 ... 0.08038407 0.09160815 0.04398251]\n"
     ]
    }
   ],
   "source": [
    "print(logistic_pred)\n",
    "logistic_pred_df = pd.DataFrame({'SK_ID_CURR': SK_ID_CURR, 'TARGET': logistic_pred})\n",
    "logistic_pred_df.to_csv('logistic_pred.csv')"
   ],
   "metadata": {
    "collapsed": false,
    "ExecuteTime": {
     "end_time": "2024-09-16T13:44:57.116896800Z",
     "start_time": "2024-09-16T13:44:56.999673300Z"
    }
   },
   "id": "53cfb224235247d2",
   "execution_count": 56
  },
  {
   "cell_type": "code",
   "outputs": [
    {
     "name": "stdout",
     "output_type": "stream",
     "text": [
      "Training AUC score 0.769659\n",
      "Validating AUC score 0.769902\n"
     ]
    }
   ],
   "source": [
    "rf_pred, rf_importance = rf(X_train, y_train, X_val, y_val, X_test)"
   ],
   "metadata": {
    "collapsed": false,
    "ExecuteTime": {
     "end_time": "2024-09-16T13:46:41.468959800Z",
     "start_time": "2024-09-16T13:45:01.152248300Z"
    }
   },
   "id": "a58b2a1087006707",
   "execution_count": 57
  },
  {
   "cell_type": "code",
   "outputs": [],
   "source": [
    "print(rf_pred)\n",
    "rf_pred_df = pd.DataFrame({'SK_ID_CURR': SK_ID_CURR, 'TARGET': rf_pred})\n",
    "rf_pred_df.to_csv('rf_pred.csv')"
   ],
   "metadata": {
    "collapsed": false,
    "ExecuteTime": {
     "end_time": "2024-09-16T11:08:54.714391300Z",
     "start_time": "2024-09-16T11:08:54.615645600Z"
    }
   },
   "id": "d2e56dd1a2874c87",
   "execution_count": 26
  },
  {
   "cell_type": "code",
   "outputs": [
    {
     "name": "stdout",
     "output_type": "stream",
     "text": [
      "                     feature  importance\n",
      "60      NEW_EXT_SOURCES_MEAN    0.132795\n",
      "443          MEAN_EXT_SOURCE    0.087893\n",
      "417           prev_score_max    0.061307\n",
      "34              EXT_SOURCE_2    0.060045\n",
      "416          prev_score_mean    0.059414\n",
      "421          buro_score_mean    0.050283\n",
      "420           buro_score_sum    0.043398\n",
      "35              EXT_SOURCE_3    0.043065\n",
      "424  buro_score_recent2y_sum    0.042673\n",
      "425          buro_score_last    0.034622\n"
     ]
    }
   ],
   "source": [
    "print(rf_importance.sort_values(by='importance', ascending=False).head(10))"
   ],
   "metadata": {
    "collapsed": false,
    "ExecuteTime": {
     "end_time": "2024-09-16T13:01:59.471346400Z",
     "start_time": "2024-09-16T13:01:59.448455900Z"
    }
   },
   "id": "18083e70ddab64e9",
   "execution_count": 42
  },
  {
   "cell_type": "code",
   "outputs": [
    {
     "data": {
      "text/plain": "<BarContainer object of 10 artists>"
     },
     "execution_count": 47,
     "metadata": {},
     "output_type": "execute_result"
    },
    {
     "data": {
      "text/plain": "<Figure size 300x500 with 1 Axes>",
      "image/png": "[encoded data removed]"
     },
     "metadata": {},
     "output_type": "display_data"
    }
   ],
   "source": [
    "rf_top_f = rf_importance.sort_values(by='importance', ascending=False).head(10)\n",
    "rf_top_f = rf_top_f.sort_values(by='importance', ascending=True)\n",
    "plt.figure(figsize=(3, 5))\n",
    "plt.barh(rf_top_f['feature'], rf_top_f['importance'], color='r')"
   ],
   "metadata": {
    "collapsed": false,
    "ExecuteTime": {
     "end_time": "2024-09-16T13:07:50.699652600Z",
     "start_time": "2024-09-16T13:07:50.573088300Z"
    }
   },
   "id": "52edcf25d9b5fe94",
   "execution_count": 47
  },
  {
   "cell_type": "code",
   "outputs": [
    {
     "name": "stdout",
     "output_type": "stream",
     "text": [
      "{'NEW_EXT_SOURCES_MEAN', 'buro_score_mean', 'prev_score_mean', 'EXT_SOURCE_2', 'buro_score_sum', 'MEAN_EXT_SOURCE'}\n"
     ]
    }
   ],
   "source": [
    "print(set(rf_top_f['feature']) & set(lgbm_top_f['feature']))"
   ],
   "metadata": {
    "collapsed": false,
    "ExecuteTime": {
     "end_time": "2024-09-16T14:22:01.788338400Z",
     "start_time": "2024-09-16T14:22:01.744809100Z"
    }
   },
   "id": "8d209a840bdeeb2d",
   "execution_count": 59
  },
  {
   "cell_type": "code",
   "outputs": [],
   "source": [],
   "metadata": {
    "collapsed": false
   },
   "id": "51d2c646bc81b5f3"
  }
 ],
 "metadata": {
  "kernelspec": {
   "display_name": "Python 3",
   "language": "python",
   "name": "python3"
  },
  "language_info": {
   "codemirror_mode": {
    "name": "ipython",
    "version": 2
   },
   "file_extension": ".py",
   "mimetype": "text/x-python",
   "name": "python",
   "nbconvert_exporter": "python",
   "pygments_lexer": "ipython2",
   "version": "2.7.6"
  }
 },
 "nbformat": 4,
 "nbformat_minor": 5
}
