{
 "cells": [
  {
   "cell_type": "markdown",
   "id": "e2a315e5",
   "metadata": {},
   "source": [
    "# 4. Model Assembling"
   ]
  },
  {
   "cell_type": "code",
   "execution_count": 1,
   "id": "acf0e691",
   "metadata": {},
   "outputs": [
    {
     "name": "stdout",
     "output_type": "stream",
     "text": [
      "D:\\MAFM\\MAFM-3\\5440\\project1\\data\n"
     ]
    }
   ],
   "source": [
    "import os\n",
    "os.chdir('.\\\\data')\n",
    "print(os.getcwd())"
   ]
  },
  {
   "cell_type": "code",
   "execution_count": 2,
   "id": "a35eaf34",
   "metadata": {},
   "outputs": [],
   "source": [
    "import numpy as np \n",
    "import pandas as pd\n",
    "import matplotlib.pyplot as plt\n",
    "import seaborn as sns\n",
    "import scipy.stats as stats\n",
    "from numpy.random import randint\n",
    "from multiprocessing import cpu_count\n",
    "import os\n",
    "import re\n",
    "import warnings\n",
    "warnings.filterwarnings('ignore')"
   ]
  },
  {
   "cell_type": "code",
   "execution_count": 3,
   "id": "d252a5ad",
   "metadata": {},
   "outputs": [],
   "source": [
    "# !pip install mlens\n",
    "# !pip install scikit-learn-intelex\n",
    "# !pip install imblearn"
   ]
  },
  {
   "cell_type": "code",
   "execution_count": 4,
   "id": "991a0e19",
   "metadata": {},
   "outputs": [],
   "source": [
    "from sklearn.linear_model import LogisticRegression ,SGDClassifier\n",
    "from sklearn.preprocessing import FunctionTransformer\n",
    "from sklearn.tree import DecisionTreeClassifier\n",
    "from sklearn.pipeline import Pipeline #pipeline\n",
    "from sklearn.impute import SimpleImputer\n",
    "from sklearn.model_selection import train_test_split\n",
    "from sklearn.feature_selection import RFE #for feature selection\n",
    "from imblearn.over_sampling import SMOTE\n",
    "from sklearn.preprocessing import MinMaxScaler,LabelEncoder\n",
    "from sklearn.metrics import (f1_score,classification_report,\n",
    "                             roc_auc_score,confusion_matrix,roc_curve,auc) # evaluatin metrics\n",
    "from sklearn.model_selection import KFold,RandomizedSearchCV ,cross_val_score,RepeatedStratifiedKFold\n",
    "from sklearn.discriminant_analysis import LinearDiscriminantAnalysis\n",
    "from sklearn.naive_bayes import GaussianNB \n",
    "from sklearn.svm import SVC\n",
    "from sklearn.ensemble import GradientBoostingClassifier ,RandomForestClassifier\n",
    "from xgboost import XGBClassifier\n",
    "import lightgbm as lgb\n",
    "import gc"
   ]
  },
  {
   "cell_type": "code",
   "execution_count": 5,
   "id": "06f84453",
   "metadata": {},
   "outputs": [
    {
     "name": "stderr",
     "output_type": "stream",
     "text": [
      "Intel(R) Extension for Scikit-learn* enabled (https://github.com/intel/scikit-learn-intelex)\n"
     ]
    }
   ],
   "source": [
    "from sklearnex import patch_sklearn\n",
    "patch_sklearn()"
   ]
  },
  {
   "cell_type": "markdown",
   "id": "36f3f4c1",
   "metadata": {},
   "source": [
    "## 4.1 Import Data"
   ]
  },
  {
   "cell_type": "code",
   "execution_count": 6,
   "id": "46c05a54",
   "metadata": {},
   "outputs": [],
   "source": [
    "def reduce_mem_usage(df):\n",
    "    \"\"\" iterate through all the columns of a dataframe and modify the data type\n",
    "        to reduce memory usage.        \n",
    "    \"\"\"\n",
    "    start_mem = df.memory_usage().sum() / 1024**2\n",
    "    print('Memory usage of dataframe is {:.2f} MB'.format(start_mem))\n",
    "    \n",
    "    for col in df.columns:\n",
    "        col_type = df[col].dtype\n",
    "        \n",
    "        if col_type != object:\n",
    "            c_min = df[col].min()\n",
    "            c_max = df[col].max()\n",
    "            if str(col_type)[:3] == 'int':\n",
    "                if c_min > np.iinfo(np.int8).min and c_max < np.iinfo(np.int8).max:\n",
    "                    df[col] = df[col].astype(np.int8)\n",
    "                elif c_min > np.iinfo(np.int16).min and c_max < np.iinfo(np.int16).max:\n",
    "                    df[col] = df[col].astype(np.int16)\n",
    "                elif c_min > np.iinfo(np.int32).min and c_max < np.iinfo(np.int32).max:\n",
    "                    df[col] = df[col].astype(np.int32)\n",
    "                elif c_min > np.iinfo(np.int64).min and c_max < np.iinfo(np.int64).max:\n",
    "                    df[col] = df[col].astype(np.int64)  \n",
    "            else:\n",
    "                if c_min > np.finfo(np.float16).min and c_max < np.finfo(np.float16).max:\n",
    "                    df[col] = df[col].astype(np.float16)\n",
    "                elif c_min > np.finfo(np.float32).min and c_max < np.finfo(np.float32).max:\n",
    "                    df[col] = df[col].astype(np.float32)\n",
    "                else:\n",
    "                    df[col] = df[col].astype(np.float64)\n",
    "\n",
    "\n",
    "    end_mem = df.memory_usage().sum() / 1024**2\n",
    "    print('Memory usage after optimization is: {:.2f} MB'.format(end_mem))\n",
    "    print('Decreased by {:.1f}%'.format(100 * (start_mem - end_mem) / start_mem))\n",
    "    \n",
    "    return df\n",
    "\n",
    "\n",
    "def import_data(file):\n",
    "    \"\"\"create a dataframe and optimize its memory usage\"\"\"\n",
    "    df = pd.read_csv(file, parse_dates=True, keep_date_col=True, compression='zip', index_col=0)\n",
    "    df = reduce_mem_usage(df)\n",
    "    return df"
   ]
  },
  {
   "cell_type": "code",
   "execution_count": 7,
   "id": "dec795ee",
   "metadata": {},
   "outputs": [
    {
     "name": "stdout",
     "output_type": "stream",
     "text": [
      "Memory usage of dataframe is 1839.36 MB\n",
      "Memory usage after optimization is: 663.07 MB\n",
      "Decreased by 64.0%\n",
      "Memory usage of dataframe is 291.56 MB\n",
      "Memory usage after optimization is: 99.81 MB\n",
      "Decreased by 65.8%\n"
     ]
    }
   ],
   "source": [
    "application_train = import_data('features_train.csv')\n",
    "application_test = import_data('features_test.csv')"
   ]
  },
  {
   "cell_type": "code",
   "execution_count": 8,
   "id": "a22616d9",
   "metadata": {},
   "outputs": [
    {
     "name": "stdout",
     "output_type": "stream",
     "text": [
      "(307511, 783)\n",
      "(48744, 782)\n"
     ]
    }
   ],
   "source": [
    "application_test = application_test.drop('TARGET', axis=1)\n",
    "print(application_train.shape)\n",
    "print(application_test.shape)"
   ]
  },
  {
   "cell_type": "code",
   "execution_count": 9,
   "id": "511d0df9",
   "metadata": {},
   "outputs": [
    {
     "data": {
      "text/html": [
       "<div>\n",
       "<style scoped>\n",
       "    .dataframe tbody tr th:only-of-type {\n",
       "        vertical-align: middle;\n",
       "    }\n",
       "\n",
       "    .dataframe tbody tr th {\n",
       "        vertical-align: top;\n",
       "    }\n",
       "\n",
       "    .dataframe thead th {\n",
       "        text-align: right;\n",
       "    }\n",
       "</style>\n",
       "<table border=\"1\" class=\"dataframe\">\n",
       "  <thead>\n",
       "    <tr style=\"text-align: right;\">\n",
       "      <th></th>\n",
       "      <th>SK_ID_CURR</th>\n",
       "      <th>TARGET</th>\n",
       "      <th>NAME_CONTRACT_TYPE</th>\n",
       "      <th>CODE_GENDER</th>\n",
       "      <th>FLAG_OWN_CAR</th>\n",
       "      <th>FLAG_OWN_REALTY</th>\n",
       "      <th>CNT_CHILDREN</th>\n",
       "      <th>AMT_INCOME_TOTAL</th>\n",
       "      <th>AMT_CREDIT</th>\n",
       "      <th>AMT_ANNUITY</th>\n",
       "      <th>...</th>\n",
       "      <th>AMT_ANNUITY_to_prev_approved</th>\n",
       "      <th>AMT_ANNUITY_to_prev_refused</th>\n",
       "      <th>AMT_CREDIT_to_prev_approved</th>\n",
       "      <th>AMT_CREDIT_to_prev_refused</th>\n",
       "      <th>AMT_PAY_YEAR_to_prev_approved</th>\n",
       "      <th>AMT_PAY_YEAR_to_prev_refused</th>\n",
       "      <th>AMT_DIFF_CREDIT_GOODS_to_prev_approved</th>\n",
       "      <th>AMT_DIFF_CREDIT_GOODS_to_prev_refused</th>\n",
       "      <th>AMT_CREDIT_GOODS_PERC_to_prev_approved</th>\n",
       "      <th>AMT_CREDIT_GOODS_PERC_to_prev_refused</th>\n",
       "    </tr>\n",
       "  </thead>\n",
       "  <tbody>\n",
       "    <tr>\n",
       "      <th>0</th>\n",
       "      <td>100002</td>\n",
       "      <td>1.0</td>\n",
       "      <td>0</td>\n",
       "      <td>0</td>\n",
       "      <td>0</td>\n",
       "      <td>0</td>\n",
       "      <td>0</td>\n",
       "      <td>202500.0</td>\n",
       "      <td>406597.5</td>\n",
       "      <td>24700.5</td>\n",
       "      <td>...</td>\n",
       "      <td>1.669812</td>\n",
       "      <td>NaN</td>\n",
       "      <td>1.270797</td>\n",
       "      <td>NaN</td>\n",
       "      <td>-0.149414</td>\n",
       "      <td>NaN</td>\n",
       "      <td>inf</td>\n",
       "      <td>NaN</td>\n",
       "      <td>0.158447</td>\n",
       "      <td>NaN</td>\n",
       "    </tr>\n",
       "    <tr>\n",
       "      <th>1</th>\n",
       "      <td>100003</td>\n",
       "      <td>0.0</td>\n",
       "      <td>0</td>\n",
       "      <td>1</td>\n",
       "      <td>0</td>\n",
       "      <td>1</td>\n",
       "      <td>0</td>\n",
       "      <td>270000.0</td>\n",
       "      <td>1293502.5</td>\n",
       "      <td>35698.5</td>\n",
       "      <td>...</td>\n",
       "      <td>-0.368771</td>\n",
       "      <td>NaN</td>\n",
       "      <td>18.007141</td>\n",
       "      <td>NaN</td>\n",
       "      <td>3.175781</td>\n",
       "      <td>NaN</td>\n",
       "      <td>2.363843</td>\n",
       "      <td>NaN</td>\n",
       "      <td>0.082764</td>\n",
       "      <td>NaN</td>\n",
       "    </tr>\n",
       "    <tr>\n",
       "      <th>2</th>\n",
       "      <td>100004</td>\n",
       "      <td>0.0</td>\n",
       "      <td>1</td>\n",
       "      <td>0</td>\n",
       "      <td>1</td>\n",
       "      <td>0</td>\n",
       "      <td>0</td>\n",
       "      <td>67500.0</td>\n",
       "      <td>135000.0</td>\n",
       "      <td>6750.0</td>\n",
       "      <td>...</td>\n",
       "      <td>0.259975</td>\n",
       "      <td>NaN</td>\n",
       "      <td>5.714414</td>\n",
       "      <td>NaN</td>\n",
       "      <td>4.328125</td>\n",
       "      <td>NaN</td>\n",
       "      <td>-1.000000</td>\n",
       "      <td>NaN</td>\n",
       "      <td>0.207642</td>\n",
       "      <td>NaN</td>\n",
       "    </tr>\n",
       "    <tr>\n",
       "      <th>3</th>\n",
       "      <td>100006</td>\n",
       "      <td>0.0</td>\n",
       "      <td>0</td>\n",
       "      <td>1</td>\n",
       "      <td>0</td>\n",
       "      <td>0</td>\n",
       "      <td>0</td>\n",
       "      <td>135000.0</td>\n",
       "      <td>312682.5</td>\n",
       "      <td>29686.5</td>\n",
       "      <td>...</td>\n",
       "      <td>0.359136</td>\n",
       "      <td>-0.092048</td>\n",
       "      <td>0.668681</td>\n",
       "      <td>NaN</td>\n",
       "      <td>-0.332275</td>\n",
       "      <td>-0.620117</td>\n",
       "      <td>-2.837011</td>\n",
       "      <td>-0.9281</td>\n",
       "      <td>0.106018</td>\n",
       "      <td>-0.200439</td>\n",
       "    </tr>\n",
       "    <tr>\n",
       "      <th>4</th>\n",
       "      <td>100007</td>\n",
       "      <td>0.0</td>\n",
       "      <td>0</td>\n",
       "      <td>0</td>\n",
       "      <td>0</td>\n",
       "      <td>0</td>\n",
       "      <td>0</td>\n",
       "      <td>121500.0</td>\n",
       "      <td>513000.0</td>\n",
       "      <td>21865.5</td>\n",
       "      <td>...</td>\n",
       "      <td>0.780752</td>\n",
       "      <td>NaN</td>\n",
       "      <td>2.078516</td>\n",
       "      <td>NaN</td>\n",
       "      <td>0.855469</td>\n",
       "      <td>NaN</td>\n",
       "      <td>-1.000000</td>\n",
       "      <td>NaN</td>\n",
       "      <td>-0.044312</td>\n",
       "      <td>NaN</td>\n",
       "    </tr>\n",
       "  </tbody>\n",
       "</table>\n",
       "<p>5 rows × 783 columns</p>\n",
       "</div>"
      ],
      "text/plain": [
       "   SK_ID_CURR  TARGET  NAME_CONTRACT_TYPE  CODE_GENDER  FLAG_OWN_CAR  \\\n",
       "0      100002     1.0                   0            0             0   \n",
       "1      100003     0.0                   0            1             0   \n",
       "2      100004     0.0                   1            0             1   \n",
       "3      100006     0.0                   0            1             0   \n",
       "4      100007     0.0                   0            0             0   \n",
       "\n",
       "   FLAG_OWN_REALTY  CNT_CHILDREN  AMT_INCOME_TOTAL  AMT_CREDIT  AMT_ANNUITY  \\\n",
       "0                0             0          202500.0    406597.5      24700.5   \n",
       "1                1             0          270000.0   1293502.5      35698.5   \n",
       "2                0             0           67500.0    135000.0       6750.0   \n",
       "3                0             0          135000.0    312682.5      29686.5   \n",
       "4                0             0          121500.0    513000.0      21865.5   \n",
       "\n",
       "   ...  AMT_ANNUITY_to_prev_approved  AMT_ANNUITY_to_prev_refused  \\\n",
       "0  ...                      1.669812                          NaN   \n",
       "1  ...                     -0.368771                          NaN   \n",
       "2  ...                      0.259975                          NaN   \n",
       "3  ...                      0.359136                    -0.092048   \n",
       "4  ...                      0.780752                          NaN   \n",
       "\n",
       "   AMT_CREDIT_to_prev_approved  AMT_CREDIT_to_prev_refused  \\\n",
       "0                     1.270797                         NaN   \n",
       "1                    18.007141                         NaN   \n",
       "2                     5.714414                         NaN   \n",
       "3                     0.668681                         NaN   \n",
       "4                     2.078516                         NaN   \n",
       "\n",
       "   AMT_PAY_YEAR_to_prev_approved  AMT_PAY_YEAR_to_prev_refused  \\\n",
       "0                      -0.149414                           NaN   \n",
       "1                       3.175781                           NaN   \n",
       "2                       4.328125                           NaN   \n",
       "3                      -0.332275                     -0.620117   \n",
       "4                       0.855469                           NaN   \n",
       "\n",
       "   AMT_DIFF_CREDIT_GOODS_to_prev_approved  \\\n",
       "0                                     inf   \n",
       "1                                2.363843   \n",
       "2                               -1.000000   \n",
       "3                               -2.837011   \n",
       "4                               -1.000000   \n",
       "\n",
       "   AMT_DIFF_CREDIT_GOODS_to_prev_refused  \\\n",
       "0                                    NaN   \n",
       "1                                    NaN   \n",
       "2                                    NaN   \n",
       "3                                -0.9281   \n",
       "4                                    NaN   \n",
       "\n",
       "   AMT_CREDIT_GOODS_PERC_to_prev_approved  \\\n",
       "0                                0.158447   \n",
       "1                                0.082764   \n",
       "2                                0.207642   \n",
       "3                                0.106018   \n",
       "4                               -0.044312   \n",
       "\n",
       "   AMT_CREDIT_GOODS_PERC_to_prev_refused  \n",
       "0                                    NaN  \n",
       "1                                    NaN  \n",
       "2                                    NaN  \n",
       "3                              -0.200439  \n",
       "4                                    NaN  \n",
       "\n",
       "[5 rows x 783 columns]"
      ]
     },
     "execution_count": 9,
     "metadata": {},
     "output_type": "execute_result"
    }
   ],
   "source": [
    "application_train.head()"
   ]
  },
  {
   "cell_type": "code",
   "execution_count": 10,
   "id": "6121d88b",
   "metadata": {},
   "outputs": [],
   "source": [
    "def make_valid_column_name(s):\n",
    "        s = str(s).strip()\n",
    "        s = re.sub(r'[^0-9a-zA-Z_]+', '_', s)\n",
    "        s = re.sub(r'^(?=\\d)', '_', s)\n",
    "        if s in dir(__builtins__):\n",
    "            s += '_'\n",
    "        return s\n",
    "\n",
    "application_train.columns = [make_valid_column_name(col) for col in application_train.columns]\n",
    "application_test.columns = [make_valid_column_name(col) for col in application_test.columns]"
   ]
  },
  {
   "cell_type": "markdown",
   "id": "d2930c8b",
   "metadata": {},
   "source": [
    "## 4.2 Data Cleaning"
   ]
  },
  {
   "cell_type": "code",
   "execution_count": 11,
   "id": "afa77e6b",
   "metadata": {},
   "outputs": [],
   "source": [
    "application_train['CODE_GENDER'].replace('XNA',np.nan,inplace=True)\n",
    "application_test['CODE_GENDER'].replace('XNA',np.nan,inplace=True)"
   ]
  },
  {
   "cell_type": "code",
   "execution_count": 12,
   "id": "2440334a",
   "metadata": {},
   "outputs": [],
   "source": [
    "FLAG_DOCUMENT=[\n",
    "'FLAG_DOCUMENT_3', 'FLAG_DOCUMENT_4', 'FLAG_DOCUMENT_5',\n",
    "'FLAG_DOCUMENT_6', 'FLAG_DOCUMENT_7', 'FLAG_DOCUMENT_8',\n",
    "'FLAG_DOCUMENT_9', 'FLAG_DOCUMENT_11', 'FLAG_DOCUMENT_13', \n",
    "'FLAG_DOCUMENT_14', 'FLAG_DOCUMENT_15', 'FLAG_DOCUMENT_16', \n",
    "'FLAG_DOCUMENT_17', 'FLAG_DOCUMENT_18', 'FLAG_DOCUMENT_19', \n",
    "'FLAG_DOCUMENT_20', 'FLAG_DOCUMENT_21']\n",
    "application_train['FLAG_DOCUMENT']=application_train[FLAG_DOCUMENT].sum(axis=1)\n",
    "application_test['FLAG_DOCUMENT']=application_test[FLAG_DOCUMENT].sum(axis=1)\n",
    "application_train.drop(FLAG_DOCUMENT,axis=1,inplace=True)\n",
    "application_test.drop(FLAG_DOCUMENT,axis=1,inplace=True)"
   ]
  },
  {
   "cell_type": "code",
   "execution_count": 13,
   "id": "67e7e04a",
   "metadata": {},
   "outputs": [],
   "source": [
    "# Age Feature\n",
    "application_train['AGE']=application_train['DAYS_BIRTH']/(-365)\n",
    "application_test['AGE']=application_test['DAYS_BIRTH']/(-365)\n",
    "# MEAN_EXT_SOURCE\n",
    "application_train['MEAN_EXT_SOURCE'] = application_train[['EXT_SOURCE_1', 'EXT_SOURCE_2', 'EXT_SOURCE_3']].mean(axis=1)\n",
    "application_test['MEAN_EXT_SOURCE'] = application_test[['EXT_SOURCE_1', 'EXT_SOURCE_2', 'EXT_SOURCE_3']].mean(axis=1)\n",
    "# YEARS_EMPLOYED\n",
    "application_train['YEARS_EMPLOYED']=application_train['DAYS_EMPLOYED']/(-365)\n",
    "application_test['YEARS_EMPLOYED']=application_test['DAYS_EMPLOYED']/(-365)\n",
    "# DAYS_BIRTH_SQUARED\n",
    "application_train['DAYS_BIRTH_SQUARED'] = application_train['DAYS_BIRTH'] ** 2\n",
    "application_test['DAYS_BIRTH_SQUARED'] = application_test['DAYS_BIRTH'] ** 2\n",
    "# DEBT_TO_INCOME_RATIO \n",
    "application_train['DEBT_TO_INCOME_RATIO'] = application_train['AMT_CREDIT'] / application_train['AMT_INCOME_TOTAL']\n",
    "application_test['DEBT_TO_INCOME_RATIO'] = application_test['AMT_CREDIT'] / application_test['AMT_INCOME_TOTAL']\n",
    "# INCOME_TO_CREDIT \n",
    "application_train['INCOME_TO_CREDIT'] = application_train['AMT_INCOME_TOTAL'] / application_train['AMT_CREDIT']\n",
    "application_test['INCOME_TO_CREDIT'] = application_test['AMT_INCOME_TOTAL'] / application_test['AMT_CREDIT']"
   ]
  },
  {
   "cell_type": "code",
   "execution_count": 14,
   "id": "b065e681",
   "metadata": {},
   "outputs": [],
   "source": [
    "application_train['_INCOME_CLASS']=pd.qcut(application_train['AMT_INCOME_TOTAL'],3,labels=['Low_INCOME', 'Medium_INCOME', 'High_INCOME'])\n",
    "application_train['ANNUITY_CLASS']=pd.qcut(application_train['AMT_ANNUITY'],3,labels=['Low_ANNUITY', 'Medium_ANNUITY', 'High_ANNUITY'])\n",
    "application_train['DAYS_BIRTH_CLASS']=np.where(application_train['DAYS_BIRTH']<-15000,1,0)\n",
    "application_train['CREDIT_UNDER_100K']=np.where(application_train['AMT_CREDIT']<100000,1,0)\n",
    "application_train['YEARS_EMPLOYED_CLASS']=np.where(application_train['DAYS_EMPLOYED']<100000,1,0)\n",
    "\n",
    "application_test['_INCOME_CLASS']=pd.qcut(application_test['AMT_INCOME_TOTAL'],3,labels=['Low_INCOME', 'Medium_INCOME', 'High_INCOME'])\n",
    "application_test['ANNUITY_CLASS']=pd.qcut(application_test['AMT_ANNUITY'],3,labels=['Low_ANNUITY', 'Medium_ANNUITY', 'High_ANNUITY'])\n",
    "application_test['DAYS_BIRTH_CLASS']=np.where(application_test['DAYS_BIRTH']<-15000,1,0)\n",
    "application_test['CREDIT_UNDER_100K']=np.where(application_test['AMT_CREDIT']<100000,1,0)\n",
    "application_test['YEARS_EMPLOYED_CLASS']=np.where(application_test['DAYS_EMPLOYED']<100000,1,0)"
   ]
  },
  {
   "cell_type": "code",
   "execution_count": 15,
   "id": "a7d70190",
   "metadata": {
    "scrolled": true
   },
   "outputs": [],
   "source": [
    "AMT_REQ_CREDIT=['AMT_REQ_CREDIT_BUREAU_HOUR','AMT_REQ_CREDIT_BUREAU_DAY',\n",
    "                'AMT_REQ_CREDIT_BUREAU_WEEK','AMT_REQ_CREDIT_BUREAU_MON', 'AMT_REQ_CREDIT_BUREAU_QRT']\n",
    "application_train.drop(AMT_REQ_CREDIT,axis=1,inplace=True)\n",
    "application_test.drop(AMT_REQ_CREDIT,axis=1,inplace=True)"
   ]
  },
  {
   "cell_type": "code",
   "execution_count": 16,
   "id": "cae54dc2",
   "metadata": {
    "scrolled": true
   },
   "outputs": [],
   "source": [
    "SK_ID_CURR=application_test[\"SK_ID_CURR\"]\n",
    "application_test.drop('SK_ID_CURR',inplace=True,axis=1)\n",
    "SK_ID_CURR_TRAIN=application_train[\"SK_ID_CURR\"]\n",
    "application_train.drop('SK_ID_CURR',inplace=True,axis=1)"
   ]
  },
  {
   "cell_type": "code",
   "execution_count": 17,
   "id": "1b6bb508",
   "metadata": {},
   "outputs": [],
   "source": [
    "# Detect highly missing numeric features \n",
    "application_train_numeric= application_train.select_dtypes(include=['number'])\n",
    "missings=application_train_numeric.loc[:,application_train_numeric.isna().mean() >= 0.6]\n",
    "highly_missing_features = missings.columns\n",
    "missings.columns\n",
    "#Remove highly missing features\n",
    "application_train.drop(highly_missing_features,axis=1,inplace=True)\n",
    "application_test.drop(highly_missing_features,axis=1,inplace=True)"
   ]
  },
  {
   "cell_type": "code",
   "execution_count": 18,
   "id": "76da9b0f",
   "metadata": {
    "scrolled": true
   },
   "outputs": [],
   "source": [
    "target = application_train['TARGET']\n",
    "features_train = application_train.drop('TARGET', axis=1)\n",
    "\n",
    "numeric_imputer = SimpleImputer(strategy='median')\n",
    "\n",
    "numeric_features_train = features_train.select_dtypes(include='number')\n",
    "numeric_features_test = application_test.select_dtypes(include='number')\n",
    "\n",
    "numeric_features_train.replace([np.inf, -np.inf], np.nan, inplace=True)\n",
    "numeric_features_test.replace([np.inf, -np.inf], np.nan, inplace=True)\n",
    "\n",
    "\n",
    "imputed_numeric_features_train = numeric_imputer.fit_transform(numeric_features_train)\n",
    "imputed_numeric_features_test = numeric_imputer.transform(numeric_features_test)"
   ]
  },
  {
   "cell_type": "code",
   "execution_count": 19,
   "id": "11f75aa7",
   "metadata": {},
   "outputs": [],
   "source": [
    "categorical_features_train = features_train.select_dtypes(include='object')\n",
    "# using dummy_na=False ,we perform onehot encoding without affecting data distribution\n",
    "dummy_categorical_features_train = pd.get_dummies(categorical_features_train,dummy_na=False)\n",
    "\n",
    "# Concatenate imputed numerical and categorical features Train\n",
    "imputed_features_train = pd.concat([pd.DataFrame(imputed_numeric_features_train, columns=numeric_features_train.columns),\n",
    "                              dummy_categorical_features_train] ,axis=1)\n",
    "\n",
    "# Impute categorical features Test using mode imputation and one-hot encoding\n",
    "categorical_features_test = application_test.select_dtypes(include='object')\n",
    "dummy_categorical_features_test = pd.get_dummies(categorical_features_test,dummy_na=False)\n",
    "missing_columns = set(dummy_categorical_features_train.columns) - set(dummy_categorical_features_test.columns.get_level_values(0))\n",
    "for col in missing_columns:\n",
    "    dummy_categorical_features_test[col] = 0\n",
    "dummy_categorical_features_test = dummy_categorical_features_test[dummy_categorical_features_train.columns]\n",
    "\n",
    "# Concatenate imputed numerical and categorical features\n",
    "imputed_features_test = pd.concat([pd.DataFrame(imputed_numeric_features_test, columns=numeric_features_test.columns),\n",
    "                              dummy_categorical_features_test],\n",
    "                             axis=1)"
   ]
  },
  {
   "cell_type": "code",
   "execution_count": 20,
   "id": "871c5265",
   "metadata": {
    "scrolled": false
   },
   "outputs": [
    {
     "name": "stdout",
     "output_type": "stream",
     "text": [
      "NAME_CONTRACT_TYPE                                                                float64\n",
      "CODE_GENDER                                                                       float64\n",
      "FLAG_OWN_CAR                                                                      float64\n",
      "FLAG_OWN_REALTY                                                                   float64\n",
      "CNT_CHILDREN                                                                      float64\n",
      "                                                                                   ...   \n",
      "bureau_CREDIT_TYPE_mode_sum_CREDIT_TYPE_Loan for working capital replenishment      uint8\n",
      "bureau_CREDIT_TYPE_mode_sum_CREDIT_TYPE_Microloan                                   uint8\n",
      "bureau_CREDIT_TYPE_mode_sum_CREDIT_TYPE_Mortgage                                    uint8\n",
      "bureau_CREDIT_TYPE_mode_sum_CREDIT_TYPE_Real estate loan                            uint8\n",
      "bureau_CREDIT_TYPE_mode_sum_CREDIT_TYPE_Unknown type of loan                        uint8\n",
      "Length: 600, dtype: object\n"
     ]
    }
   ],
   "source": [
    "X=imputed_features_train.copy()\n",
    "print(X.dtypes)\n",
    "categorical_features_indices = np.where(X.dtypes != float)[0]"
   ]
  },
  {
   "cell_type": "code",
   "execution_count": 21,
   "id": "d684281b",
   "metadata": {},
   "outputs": [],
   "source": [
    "y=target\n",
    "\n",
    "X.fillna(-9999, inplace=True)\n",
    "y.fillna(-9999, inplace=True)\n",
    "\n",
    "#splitting data to train and test sets\n",
    "X_train, X_test, y_train, y_test = train_test_split(X, y,stratify=y, test_size=0.1, random_state=27)"
   ]
  },
  {
   "cell_type": "code",
   "execution_count": 22,
   "id": "0f4361e4",
   "metadata": {},
   "outputs": [],
   "source": [
    "imputed_features_test.fillna(-9999, inplace=True)\n",
    "imputed_features_train.fillna(-9999, inplace=True)"
   ]
  },
  {
   "cell_type": "markdown",
   "id": "9a4ffbb5",
   "metadata": {},
   "source": [
    "## 4.3 Model Enssembling"
   ]
  },
  {
   "cell_type": "code",
   "execution_count": 23,
   "id": "a3a14432",
   "metadata": {},
   "outputs": [],
   "source": [
    "# A host of Scikit-learn models\n",
    "from sklearn.svm import SVC, LinearSVC\n",
    "from sklearn.naive_bayes import GaussianNB\n",
    "from sklearn.ensemble import RandomForestClassifier, GradientBoostingClassifier\n",
    "from sklearn.linear_model import LogisticRegression\n",
    "from sklearn.neighbors import KNeighborsClassifier\n",
    "from sklearn.neural_network import MLPClassifier\n",
    "from sklearn.kernel_approximation import Nystroem\n",
    "from lightgbm import LGBMClassifier\n",
    "from sklearn.kernel_approximation import RBFSampler\n",
    "from sklearn.pipeline import make_pipeline\n",
    "SEED=42\n",
    "\n",
    "def get_models():\n",
    "    lr = LogisticRegression(C=100, random_state=SEED)\n",
    "    rf = RandomForestClassifier(n_estimators=10, max_features=3, random_state=SEED)\n",
    "    lgb = LGBMClassifier(n_estimators=100, learning_rate=0.1, random_state=SEED)\n",
    "\n",
    "\n",
    "    models = {\n",
    "#         'svm': svc,\n",
    "#         'knn': knn,\n",
    "#         'naive bayes': nb,\n",
    "#         'mlp-nn': nn,\n",
    "        'lightgbm': lgb,\n",
    "        'random forest': rf,\n",
    "        'logistic': lr,\n",
    "        \n",
    "             }\n",
    "\n",
    "    return models\n",
    "\n",
    "\n",
    "def train_predict(model_list):\n",
    "    P = np.zeros((y_test.shape[0], len(model_list)))\n",
    "    P = pd.DataFrame(P)\n",
    "\n",
    "    print(\"Fitting models.\")\n",
    "    cols = list()\n",
    "    for i, (name, m) in enumerate(models.items()):\n",
    "        print(\"%s...\" % name, end=\" \", flush=False)\n",
    "        m.fit(X_train, y_train)\n",
    "        P.iloc[:, i] = m.predict_proba(X_test)[:, 1]\n",
    "        cols.append(name)\n",
    "        print(\"done\")\n",
    "\n",
    "    P.columns = cols\n",
    "    print(\"Done.\\n\")\n",
    "    return P\n",
    "\n",
    "\n",
    "def score_models(P, y):\n",
    "    print(\"Scoring models.\")\n",
    "    for m in P.columns:\n",
    "        score = roc_auc_score(y_test, P.loc[:, m])\n",
    "        print(\"%-26s: %.3f\" % (m, score))\n",
    "    print(\"Done.\\n\")"
   ]
  },
  {
   "cell_type": "code",
   "execution_count": 24,
   "id": "61526ad6",
   "metadata": {
    "scrolled": true
   },
   "outputs": [
    {
     "name": "stdout",
     "output_type": "stream",
     "text": [
      "Fitting models.\n",
      "lightgbm... done\n",
      "random forest... done\n",
      "logistic... done\n",
      "Done.\n",
      "\n"
     ]
    }
   ],
   "source": [
    "models = get_models()\n",
    "P = train_predict(models)"
   ]
  },
  {
   "cell_type": "code",
   "execution_count": 25,
   "id": "837b8718",
   "metadata": {},
   "outputs": [
    {
     "name": "stdout",
     "output_type": "stream",
     "text": [
      "Scoring models.\n",
      "lightgbm                  : 0.797\n",
      "random forest             : 0.635\n",
      "logistic                  : 0.554\n",
      "Done.\n",
      "\n"
     ]
    }
   ],
   "source": [
    "def score_models(P, y):\n",
    "    print(\"Scoring models.\")\n",
    "    for m in P.columns:\n",
    "        score = roc_auc_score(y_test, P.loc[:, m])\n",
    "        print(\"%-26s: %.3f\" % (m, score))\n",
    "    print(\"Done.\\n\")\n",
    "    \n",
    "score_models(P, y_test)"
   ]
  },
  {
   "cell_type": "markdown",
   "id": "89812085",
   "metadata": {},
   "source": [
    "## 4.4 Results"
   ]
  },
  {
   "cell_type": "code",
   "execution_count": 26,
   "id": "2ac0efe6",
   "metadata": {},
   "outputs": [
    {
     "data": {
      "image/png": "[encoded data removed]",
      "text/plain": [
       "<Figure size 576x432 with 2 Axes>"
      ]
     },
     "metadata": {
      "needs_background": "light"
     },
     "output_type": "display_data"
    }
   ],
   "source": [
    "# correlation analysis\n",
    "corr_matrix = P.corr()\n",
    "\n",
    "plt.figure(figsize=(8, 6))  \n",
    "sns.heatmap(corr_matrix, annot=True, cmap='coolwarm', linewidths=.5, fmt=\".2f\")\n",
    "plt.title('Correlation Matrix Heatmap')\n",
    "plt.show()"
   ]
  },
  {
   "cell_type": "code",
   "execution_count": 27,
   "id": "6f010672",
   "metadata": {},
   "outputs": [
    {
     "name": "stdout",
     "output_type": "stream",
     "text": [
      "Ensemble ROC-AUC score: 0.733\n"
     ]
    }
   ],
   "source": [
    "print(\"Ensemble ROC-AUC score: %.3f\" % roc_auc_score(y_test, P.mean(axis=1)))"
   ]
  },
  {
   "cell_type": "code",
   "execution_count": 42,
   "id": "705322b4",
   "metadata": {
    "scrolled": false
   },
   "outputs": [
    {
     "data": {
      "image/png": "[encoded data removed]",
      "text/plain": [
       "<Figure size 720x576 with 1 Axes>"
      ]
     },
     "metadata": {
      "needs_background": "light"
     },
     "output_type": "display_data"
    }
   ],
   "source": [
    "from sklearn.metrics import roc_curve\n",
    "\n",
    "def plot_roc_curve(ytest, P_base_learners, P_ensemble, labels, ens_label):\n",
    "#\"\"\"Plot the roc curve for base learners and ensemble.\"\"\"\n",
    "    plt.figure(figsize=(10, 8))\n",
    "    plt.plot([0, 1], [0, 1], 'k--')\n",
    "\n",
    "    cm = [plt.cm.rainbow(i)\n",
    "    for i in np.linspace(0, 1.0, P_base_learners.shape[1] + 1)]\n",
    "\n",
    "    for i in range(P_base_learners.shape[1]):\n",
    "        p = P_base_learners[:, i]\n",
    "        fpr, tpr, _ = roc_curve(ytest, p)\n",
    "        plt.plot(fpr, tpr, label=labels[i], c=cm[i + 1])\n",
    "\n",
    "    fpr, tpr, _ = roc_curve(ytest, P_ensemble)\n",
    "    plt.plot(fpr, tpr, label=ens_label, c=cm[0])\n",
    "\n",
    "    plt.xlabel('False positive rate')\n",
    "    plt.ylabel('True positive rate')\n",
    "    plt.title('ROC curve')\n",
    "    plt.legend(frameon=False, fontsize=24)\n",
    "    plt.show()\n",
    "\n",
    "\n",
    "plot_roc_curve(y_test, P.values, P.mean(axis=1), list(P.columns), \"ensemble\")"
   ]
  },
  {
   "cell_type": "code",
   "execution_count": 29,
   "id": "50200498",
   "metadata": {},
   "outputs": [
    {
     "name": "stdout",
     "output_type": "stream",
     "text": [
      "Truncated ensemble ROC-AUC score: 0.733\n"
     ]
    }
   ],
   "source": [
    "include = [c for c in P.columns if c not in [\"knn\"]]\n",
    "print(\"Truncated ensemble ROC-AUC score: %.3f\" % roc_auc_score(y_test, P.loc[:, include].mean(axis=1)))"
   ]
  },
  {
   "cell_type": "code",
   "execution_count": 30,
   "id": "fb5da6a0",
   "metadata": {},
   "outputs": [],
   "source": [
    "base_learners = get_models()\n",
    "meta_learner = GradientBoostingClassifier(\n",
    "   n_estimators=1000,\n",
    "   loss=\"exponential\",\n",
    "   max_features=4,\n",
    "   max_depth=3,\n",
    "   subsample=0.5,\n",
    "   learning_rate=0.005, \n",
    "   random_state=SEED\n",
    ")\n",
    "xtrain_base, xpred_base, ytrain_base, ypred_base = train_test_split(X_train, y_train, test_size=0.5, random_state=SEED)"
   ]
  },
  {
   "cell_type": "code",
   "execution_count": 31,
   "id": "887f9c6f",
   "metadata": {},
   "outputs": [],
   "source": [
    "def train_base_learners(base_learners, inp, out, verbose=True):\n",
    "#\"\"\"Train all base learners in the library.\"\"\"\n",
    "    if verbose: print(\"Fitting models.\")\n",
    "    for i, (name, m) in enumerate(base_learners.items()):\n",
    "        if verbose: \n",
    "            print(\"%s...\" % name, end=\" \", flush=False)\n",
    "            m.fit(inp, out)\n",
    "    if verbose: print(\"done\")"
   ]
  },
  {
   "cell_type": "code",
   "execution_count": 32,
   "id": "7fadca57",
   "metadata": {},
   "outputs": [
    {
     "name": "stdout",
     "output_type": "stream",
     "text": [
      "Fitting models.\n",
      "lightgbm... random forest... logistic... done\n"
     ]
    }
   ],
   "source": [
    "train_base_learners(base_learners, xtrain_base, ytrain_base)"
   ]
  },
  {
   "cell_type": "code",
   "execution_count": 33,
   "id": "0e810c1e",
   "metadata": {},
   "outputs": [],
   "source": [
    "def predict_base_learners(pred_base_learners, inp, verbose=True):\n",
    "#\"\"\"Generate a prediction matrix.\"\"\"\n",
    "    P = np.zeros((inp.shape[0], len(pred_base_learners)))\n",
    "\n",
    "    if verbose: print(\"Generating base learner predictions.\")\n",
    "    for i, (name, m) in enumerate(pred_base_learners.items()):\n",
    "        if verbose: \n",
    "            print(\"%s...\" % name, end=\" \", flush=False)\n",
    "            p = m.predict_proba(inp)\n",
    "    # With two classes, need only predictions for one class\n",
    "            P[:, i] = p[:, 1]\n",
    "    if verbose: print(\"done\")\n",
    "\n",
    "    return P"
   ]
  },
  {
   "cell_type": "code",
   "execution_count": 34,
   "id": "805ecb5e",
   "metadata": {},
   "outputs": [
    {
     "name": "stdout",
     "output_type": "stream",
     "text": [
      "Generating base learner predictions.\n",
      "lightgbm... random forest... logistic... done\n"
     ]
    }
   ],
   "source": [
    "P_base = predict_base_learners(base_learners, xpred_base)"
   ]
  },
  {
   "cell_type": "code",
   "execution_count": 35,
   "id": "de41d76b",
   "metadata": {},
   "outputs": [
    {
     "data": {
      "text/html": [
       "<style>#sk-container-id-1 {color: black;}#sk-container-id-1 pre{padding: 0;}#sk-container-id-1 div.sk-toggleable {background-color: white;}#sk-container-id-1 label.sk-toggleable__label {cursor: pointer;display: block;width: 100%;margin-bottom: 0;padding: 0.3em;box-sizing: border-box;text-align: center;}#sk-container-id-1 label.sk-toggleable__label-arrow:before {content: \"▸\";float: left;margin-right: 0.25em;color: #696969;}#sk-container-id-1 label.sk-toggleable__label-arrow:hover:before {color: black;}#sk-container-id-1 div.sk-estimator:hover label.sk-toggleable__label-arrow:before {color: black;}#sk-container-id-1 div.sk-toggleable__content {max-height: 0;max-width: 0;overflow: hidden;text-align: left;background-color: #f0f8ff;}#sk-container-id-1 div.sk-toggleable__content pre {margin: 0.2em;color: black;border-radius: 0.25em;background-color: #f0f8ff;}#sk-container-id-1 input.sk-toggleable__control:checked~div.sk-toggleable__content {max-height: 200px;max-width: 100%;overflow: auto;}#sk-container-id-1 input.sk-toggleable__control:checked~label.sk-toggleable__label-arrow:before {content: \"▾\";}#sk-container-id-1 div.sk-estimator input.sk-toggleable__control:checked~label.sk-toggleable__label {background-color: #d4ebff;}#sk-container-id-1 div.sk-label input.sk-toggleable__control:checked~label.sk-toggleable__label {background-color: #d4ebff;}#sk-container-id-1 input.sk-hidden--visually {border: 0;clip: rect(1px 1px 1px 1px);clip: rect(1px, 1px, 1px, 1px);height: 1px;margin: -1px;overflow: hidden;padding: 0;position: absolute;width: 1px;}#sk-container-id-1 div.sk-estimator {font-family: monospace;background-color: #f0f8ff;border: 1px dotted black;border-radius: 0.25em;box-sizing: border-box;margin-bottom: 0.5em;}#sk-container-id-1 div.sk-estimator:hover {background-color: #d4ebff;}#sk-container-id-1 div.sk-parallel-item::after {content: \"\";width: 100%;border-bottom: 1px solid gray;flex-grow: 1;}#sk-container-id-1 div.sk-label:hover label.sk-toggleable__label {background-color: #d4ebff;}#sk-container-id-1 div.sk-serial::before {content: \"\";position: absolute;border-left: 1px solid gray;box-sizing: border-box;top: 0;bottom: 0;left: 50%;z-index: 0;}#sk-container-id-1 div.sk-serial {display: flex;flex-direction: column;align-items: center;background-color: white;padding-right: 0.2em;padding-left: 0.2em;position: relative;}#sk-container-id-1 div.sk-item {position: relative;z-index: 1;}#sk-container-id-1 div.sk-parallel {display: flex;align-items: stretch;justify-content: center;background-color: white;position: relative;}#sk-container-id-1 div.sk-item::before, #sk-container-id-1 div.sk-parallel-item::before {content: \"\";position: absolute;border-left: 1px solid gray;box-sizing: border-box;top: 0;bottom: 0;left: 50%;z-index: -1;}#sk-container-id-1 div.sk-parallel-item {display: flex;flex-direction: column;z-index: 1;position: relative;background-color: white;}#sk-container-id-1 div.sk-parallel-item:first-child::after {align-self: flex-end;width: 50%;}#sk-container-id-1 div.sk-parallel-item:last-child::after {align-self: flex-start;width: 50%;}#sk-container-id-1 div.sk-parallel-item:only-child::after {width: 0;}#sk-container-id-1 div.sk-dashed-wrapped {border: 1px dashed gray;margin: 0 0.4em 0.5em 0.4em;box-sizing: border-box;padding-bottom: 0.4em;background-color: white;}#sk-container-id-1 div.sk-label label {font-family: monospace;font-weight: bold;display: inline-block;line-height: 1.2em;}#sk-container-id-1 div.sk-label-container {text-align: center;}#sk-container-id-1 div.sk-container {/* jupyter's `normalize.less` sets `[hidden] { display: none; }` but bootstrap.min.css set `[hidden] { display: none !important; }` so we also need the `!important` here to be able to override the default hidden behavior on the sphinx rendered scikit-learn.org. See: https://github.com/scikit-learn/scikit-learn/issues/21755 */display: inline-block !important;position: relative;}#sk-container-id-1 div.sk-text-repr-fallback {display: none;}</style><div id=\"sk-container-id-1\" class=\"sk-top-container\"><div class=\"sk-text-repr-fallback\"><pre>GradientBoostingClassifier(learning_rate=0.005, loss=&#x27;exponential&#x27;,\n",
       "                           max_features=4, n_estimators=1000, random_state=42,\n",
       "                           subsample=0.5)</pre><b>In a Jupyter environment, please rerun this cell to show the HTML representation or trust the notebook. <br />On GitHub, the HTML representation is unable to render, please try loading this page with nbviewer.org.</b></div><div class=\"sk-container\" hidden><div class=\"sk-item\"><div class=\"sk-estimator sk-toggleable\"><input class=\"sk-toggleable__control sk-hidden--visually\" id=\"sk-estimator-id-1\" type=\"checkbox\" checked><label for=\"sk-estimator-id-1\" class=\"sk-toggleable__label sk-toggleable__label-arrow\">GradientBoostingClassifier</label><div class=\"sk-toggleable__content\"><pre>GradientBoostingClassifier(learning_rate=0.005, loss=&#x27;exponential&#x27;,\n",
       "                           max_features=4, n_estimators=1000, random_state=42,\n",
       "                           subsample=0.5)</pre></div></div></div></div></div>"
      ],
      "text/plain": [
       "GradientBoostingClassifier(learning_rate=0.005, loss='exponential',\n",
       "                           max_features=4, n_estimators=1000, random_state=42,\n",
       "                           subsample=0.5)"
      ]
     },
     "execution_count": 35,
     "metadata": {},
     "output_type": "execute_result"
    }
   ],
   "source": [
    "meta_learner.fit(P_base, ypred_base)"
   ]
  },
  {
   "cell_type": "code",
   "execution_count": 36,
   "id": "5ecc256e",
   "metadata": {},
   "outputs": [],
   "source": [
    "def ensemble_predict(base_learners, meta_learner, inp, verbose=True):\n",
    "    P_pred = predict_base_learners(base_learners, inp, verbose=verbose)\n",
    "    return P_pred, meta_learner.predict_proba(P_pred)[:, 1]"
   ]
  },
  {
   "cell_type": "code",
   "execution_count": 37,
   "id": "0cbb03c8",
   "metadata": {},
   "outputs": [
    {
     "name": "stdout",
     "output_type": "stream",
     "text": [
      "Generating base learner predictions.\n",
      "lightgbm... random forest... logistic... done\n",
      "\n",
      "Ensemble ROC-AUC score: 0.792\n"
     ]
    }
   ],
   "source": [
    "P_pred, p = ensemble_predict(base_learners, meta_learner, X_test)\n",
    "print(\"\\nEnsemble ROC-AUC score: %.3f\" % roc_auc_score(y_test, p))"
   ]
  },
  {
   "cell_type": "code",
   "execution_count": 43,
   "id": "7eed8a2f",
   "metadata": {},
   "outputs": [
    {
     "data": {
      "image/png": "[encoded data removed]",
      "text/plain": [
       "<Figure size 720x576 with 1 Axes>"
      ]
     },
     "metadata": {
      "needs_background": "light"
     },
     "output_type": "display_data"
    }
   ],
   "source": [
    "# compare bagging & boosting ensemble\n",
    "plot_roc_curve(y_test, p.reshape(-1, 1), P.mean(axis=1), [\"Boosting Ensemble\"], \"Bagging Ensemble\") "
   ]
  },
  {
   "cell_type": "code",
   "execution_count": null,
   "id": "9a846009",
   "metadata": {},
   "outputs": [],
   "source": []
  }
 ],
 "metadata": {
  "kernelspec": {
   "display_name": "PyCharm Python 3.9",
   "language": "python",
   "name": "pycharm_env"
  },
  "language_info": {
   "codemirror_mode": {
    "name": "ipython",
    "version": 3
   },
   "file_extension": ".py",
   "mimetype": "text/x-python",
   "name": "python",
   "nbconvert_exporter": "python",
   "pygments_lexer": "ipython3",
   "version": "3.9.7"
  }
 },
 "nbformat": 4,
 "nbformat_minor": 5
}
